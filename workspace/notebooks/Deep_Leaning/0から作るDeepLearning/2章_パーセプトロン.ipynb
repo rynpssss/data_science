{
 "cells": [
  {
   "cell_type": "code",
   "execution_count": 1,
   "id": "e0c9d5d2-d725-453c-aa70-3a72f456dcfa",
   "metadata": {},
   "outputs": [],
   "source": [
    "import numpy as np"
   ]
  },
  {
   "cell_type": "markdown",
   "id": "69fe9123-ba46-4428-8ce5-957d40d1fdc9",
   "metadata": {},
   "source": [
    "# ２章　パーセプトロン"
   ]
  },
  {
   "cell_type": "code",
   "execution_count": 2,
   "id": "3d0a0130-faad-49e5-b7bb-25f5386d6809",
   "metadata": {},
   "outputs": [],
   "source": [
    "a = np.array([[1,0], [3,0]])\n",
    "b = np.array([[2,3], [3,4]])"
   ]
  },
  {
   "cell_type": "code",
   "execution_count": 3,
   "id": "677192f7-1580-44da-9caf-89b9d58b80e9",
   "metadata": {},
   "outputs": [
    {
     "data": {
      "text/plain": [
       "array([[3, 3],\n",
       "       [6, 4]])"
      ]
     },
     "execution_count": 3,
     "metadata": {},
     "output_type": "execute_result"
    }
   ],
   "source": [
    "a + b"
   ]
  },
  {
   "cell_type": "code",
   "execution_count": 4,
   "id": "33d2b68c-5a64-498c-a01d-cc7915457793",
   "metadata": {},
   "outputs": [
    {
     "data": {
      "text/plain": [
       "array([[2, 0],\n",
       "       [9, 0]])"
      ]
     },
     "execution_count": 4,
     "metadata": {},
     "output_type": "execute_result"
    }
   ],
   "source": [
    "a * b"
   ]
  },
  {
   "cell_type": "markdown",
   "id": "781d0111-1ccd-4c41-84ad-d4426da3b9da",
   "metadata": {},
   "source": [
    "2.3 パーセプトロンの実装"
   ]
  },
  {
   "cell_type": "markdown",
   "id": "02d3bb7f-3497-4e1e-8cc8-02467c035e5d",
   "metadata": {},
   "source": [
    "2.3.1　簡単な実装"
   ]
  },
  {
   "cell_type": "code",
   "execution_count": 5,
   "id": "ba17298d-931f-40ba-85b7-454b0c5f9120",
   "metadata": {},
   "outputs": [
    {
     "name": "stdout",
     "output_type": "stream",
     "text": [
      "0\n",
      "0\n",
      "0\n",
      "1\n"
     ]
    }
   ],
   "source": [
    "def AND(x1, x2):\n",
    "    w1, w2, theta = 0.5, 0.5, 0.7\n",
    "    \n",
    "    tmp = x1*w1 + x2*w2\n",
    "    if tmp <= theta:\n",
    "        result = 0\n",
    "    else:\n",
    "        result = 1\n",
    "    return result\n",
    "\n",
    "print(AND(0,0))\n",
    "print(AND(1,0))\n",
    "print(AND(0,1))\n",
    "print(AND(1,1))"
   ]
  },
  {
   "cell_type": "code",
   "execution_count": 11,
   "id": "1d128837-e0a0-4027-96f8-339549ee24ab",
   "metadata": {},
   "outputs": [
    {
     "name": "stdout",
     "output_type": "stream",
     "text": [
      "AND\n",
      "0\n",
      "0\n",
      "0\n",
      "1\n",
      "OR\n",
      "0\n",
      "1\n",
      "1\n",
      "1\n",
      "NAND\n",
      "1\n",
      "1\n",
      "1\n",
      "0\n"
     ]
    }
   ],
   "source": [
    "# 重みwが入力に対する重要度\n",
    "# バイアスbは発火のしやすさ\n",
    "def AND(x1, x2):\n",
    "    X = np.array([x1, x2])\n",
    "    w = np.array([0.5, 0.5])\n",
    "    b = -0.7\n",
    "    \n",
    "    tmp = np.sum(X*w)+b\n",
    "    if tmp < 0:\n",
    "        result = 0\n",
    "    else:\n",
    "        result = 1\n",
    "    return result\n",
    "\n",
    "def OR(x1, x2):\n",
    "    X = np.array([x1, x2])\n",
    "    w = np.array([0.5, 0.5])\n",
    "    b = -0.2\n",
    "    \n",
    "    tmp = np.sum(X*w)+b\n",
    "    if tmp < 0:\n",
    "        result = 0\n",
    "    else:\n",
    "        result = 1\n",
    "    return result  \n",
    "\n",
    "def NAND(x1, x2):\n",
    "    X = np.array([x1, x2])\n",
    "    w = np.array([-0.5, -0.5])\n",
    "    b = 0.7\n",
    "    \n",
    "    tmp = np.sum(X*w)+b\n",
    "    if tmp < 0:\n",
    "        result = 0\n",
    "    else:\n",
    "        result = 1\n",
    "    return result  \n",
    "\n",
    "print(\"AND\")\n",
    "print(AND(0,0))\n",
    "print(AND(1,0))\n",
    "print(AND(0,1))\n",
    "print(AND(1,1))\n",
    "\n",
    "print(\"OR\")\n",
    "print(OR(0,0))\n",
    "print(OR(1,0))\n",
    "print(OR(0,1))\n",
    "print(OR(1,1))\n",
    "\n",
    "print(\"NAND\")\n",
    "print(NAND(0,0))\n",
    "print(NAND(1,0))\n",
    "print(NAND(0,1))\n",
    "print(NAND(1,1))"
   ]
  },
  {
   "cell_type": "markdown",
   "id": "dd8ea8d8-3c5b-4abd-ab79-9e78998c2168",
   "metadata": {},
   "source": [
    "2.5　多層パーセプトロン\n",
    "\n",
    "単層パーセプトロンでは表現出来なかったXORが、2層（多層）にすることで表現できた！<br>\n",
    "層をより深くしていけば、もっと柔軟な表現ができる！！"
   ]
  },
  {
   "cell_type": "code",
   "execution_count": 12,
   "id": "73c7df24-7a8d-4087-8130-4a0413cbc62f",
   "metadata": {},
   "outputs": [
    {
     "name": "stdout",
     "output_type": "stream",
     "text": [
      "XOR\n",
      "0\n",
      "1\n",
      "1\n",
      "0\n"
     ]
    }
   ],
   "source": [
    "def XOR(x1, x2):\n",
    "    s1 = OR(x1, x2)\n",
    "    s2 = NAND(x1, x2)\n",
    "    y = AND(s1, s2)\n",
    "    return y\n",
    "\n",
    "print(\"XOR\")\n",
    "print(XOR(0,0))\n",
    "print(XOR(1,0))\n",
    "print(XOR(0,1))\n",
    "print(XOR(1,1))"
   ]
  },
  {
   "cell_type": "code",
   "execution_count": null,
   "id": "2e264786-abf4-4df4-b291-9a1865b7bf0a",
   "metadata": {},
   "outputs": [],
   "source": []
  }
 ],
 "metadata": {
  "kernelspec": {
   "display_name": "Python 3 (ipykernel)",
   "language": "python",
   "name": "python3"
  },
  "language_info": {
   "codemirror_mode": {
    "name": "ipython",
    "version": 3
   },
   "file_extension": ".py",
   "mimetype": "text/x-python",
   "name": "python",
   "nbconvert_exporter": "python",
   "pygments_lexer": "ipython3",
   "version": "3.9.7"
  }
 },
 "nbformat": 4,
 "nbformat_minor": 5
}
