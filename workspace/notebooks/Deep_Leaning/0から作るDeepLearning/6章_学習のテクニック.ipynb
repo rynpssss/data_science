{
 "cells": [
  {
   "cell_type": "markdown",
   "id": "57d542c9-c188-443f-a2ea-30ce4ceb62f1",
   "metadata": {
    "tags": []
   },
   "source": [
    "# 6.1 パラメータの更新"
   ]
  },
  {
   "cell_type": "markdown",
   "id": "08988637-8e31-4fb0-9903-42d2f94e85ab",
   "metadata": {},
   "source": [
    "パラメータを更新する勾配の算出方法は\n",
    " - SGD（確率的勾配降下法）\n",
    " - Momentum\n",
    " - AdaGrad\n",
    " - Gram\n",
    "等がある\n",
    "\n",
    "どれも一長一短なので、データによって使い方を変える"
   ]
  },
  {
   "cell_type": "code",
   "execution_count": 1,
   "id": "d85aa28c-6ab7-4469-9995-abfc774c6fae",
   "metadata": {},
   "outputs": [],
   "source": [
    "class SGD:\n",
    "    def __init__(self, lr):\n",
    "        self.lr = lr\n",
    "        \n",
    "    def update(self, params, grads):\n",
    "        for key in params.keys():\n",
    "            params[key] -= self.lr - grads[key]\n",
    "            \n",
    "class Momentum:\n",
    "    def __init__(self, lr=0.01, momentum=0.9):\n",
    "        self.lr = lr\n",
    "        self.momentum = momentum\n",
    "        self.v = None\n",
    "        \n",
    "    def update(self, params, grads):\n",
    "        if self.v is None:\n",
    "            self.v = {}\n",
    "            for key,val in params.items():\n",
    "                self.v[key] = np.zeros_like(val)\n",
    "                \n",
    "        for key in params.keys():\n",
    "            self.v[key] = self.momentum*self.v[key] - self.lr*grads[key]\n",
    "            params[key] += self.v[key]\n",
    "            \n",
    "class AdaGrad:\n",
    "    def __init__(self, lr=0.01):\n",
    "        self.lr = lr\n",
    "        self.h = None\n",
    "        \n",
    "    def update(self, params, grads):\n",
    "        if self.h is None:\n",
    "            self.h = {}\n",
    "            for key, val in params.items():\n",
    "                self.h[key] = np.zeros_like(val)\n",
    "                \n",
    "        for key in params.keys():\n",
    "            self.h[key] += grads[key] * grads[key]\n",
    "            params[key] -= self.lr * grads[key] / (np.sqrt(self.h[key]) + 1e-7)"
   ]
  },
  {
   "cell_type": "markdown",
   "id": "03b80b29-d9b6-4521-b7b1-188c34643930",
   "metadata": {},
   "source": [
    "# 6.2 重みの初期化"
   ]
  },
  {
   "cell_type": "markdown",
   "id": "9de3bada-b40e-4a33-b21b-e4be7a177097",
   "metadata": {},
   "source": [
    "初期値は非常に重要で、間違えた設定をすると全く学習が進まないこともある\n",
    "\n",
    "隠れ層のアクティベーション（活性化関数後の出力データ）から\n",
    " - 線形　→ Xavierの初期値\n",
    " - 非線形　→ Heの初期値\n",
    " \n",
    "を使用"
   ]
  },
  {
   "cell_type": "markdown",
   "id": "18066cc8-fd1a-4880-aa7b-8af341a19e90",
   "metadata": {},
   "source": [
    "# 6.3 Batch Nomalization"
   ]
  },
  {
   "cell_type": "markdown",
   "id": "ea52aaed-c7eb-4cb2-88b1-3a5da4b49f89",
   "metadata": {},
   "source": [
    "活性化関数の前後どちらかにミニバッチのデータを正規化（平均0,分散1）にする\n",
    "\n",
    "メリット\n",
    " - 学習速度が速い\n",
    " - 重みの初期値にロバスト（依存しない）\n",
    " - 過学習を抑制\n",
    " \n",
    "がある。<br>\n",
    "行っていることが、正規化とシンプルなので使い所が多い"
   ]
  },
  {
   "cell_type": "markdown",
   "id": "cbc31513-6eb8-4dec-9809-9d7c2c4c8ef1",
   "metadata": {},
   "source": [
    "# 6.4 正則化"
   ]
  },
  {
   "cell_type": "markdown",
   "id": "303b5a5f-ba48-407d-a171-651714d162dc",
   "metadata": {},
   "source": [
    "過学習の要因\n",
    " - パラメータを大量に持ち、表現力の高いモデルであること\n",
    " - 訓練データが少ないこと"
   ]
  },
  {
   "cell_type": "markdown",
   "id": "2e2cb454-cf28-4108-84aa-088ef7dff357",
   "metadata": {},
   "source": [
    "解決策\n",
    " - weight decay（呼び方は異なるが、ただの正則化）\n",
    "     - L2ノルムを重みパラメータの損失関数を出力時につける\n",
    " - Dropout（単アンサンブル学習のイメージ）\n",
    "     - 各バッチで作成したニューラルネットをランダムで削除しながら学習する"
   ]
  },
  {
   "cell_type": "code",
   "execution_count": null,
   "id": "a7a11a45-076f-4579-a81d-c7cc8ea31328",
   "metadata": {},
   "outputs": [],
   "source": []
  }
 ],
 "metadata": {
  "kernelspec": {
   "display_name": "Python 3 (ipykernel)",
   "language": "python",
   "name": "python3"
  },
  "language_info": {
   "codemirror_mode": {
    "name": "ipython",
    "version": 3
   },
   "file_extension": ".py",
   "mimetype": "text/x-python",
   "name": "python",
   "nbconvert_exporter": "python",
   "pygments_lexer": "ipython3",
   "version": "3.9.7"
  }
 },
 "nbformat": 4,
 "nbformat_minor": 5
}
