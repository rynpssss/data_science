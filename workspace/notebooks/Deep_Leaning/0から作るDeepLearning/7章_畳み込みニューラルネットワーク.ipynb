{
 "cells": [
  {
   "cell_type": "code",
   "execution_count": 2,
   "id": "6f03fd83-ec04-4ffc-bc99-167b46f4263c",
   "metadata": {},
   "outputs": [],
   "source": [
    "class Convolution:\n",
    "    def __init__(self, W, b, stride=1, pad=0):\n",
    "        self.W = W\n",
    "        self.b = b\n",
    "        self.stride = stride\n",
    "        self.pad = pad\n",
    "    \n",
    "    def forward(self, x):\n",
    "        FN, C, FH, FW = self.W.shape\n",
    "        N,  C,  H,  W = self.x.shape\n",
    "\n",
    "        out_h = int(1 + (H + 2*self.pad - FH) / self.stride)\n",
    "        out_w = int(1 + (H + 2*self.pad - FW) / self.stride)\n",
    "        \n",
    "        # 畳み込み演算\n",
    "        col = im2col(x, FH, FW, self.stride, self.pad)\n",
    "        col_W = self.W.reshape(FN, -1).T\n",
    "        out = np.dot(col, col_W) + self.b\n",
    "        \n",
    "        # 元データの形に整形\n",
    "        out = out.reshape(N, out_h, out_w, -1).transpose(0,3,1,2)\n",
    "        \n",
    "        return out"
   ]
  },
  {
   "cell_type": "code",
   "execution_count": 4,
   "id": "2f0c636d-4fe9-4983-95ec-2f60c76aa543",
   "metadata": {},
   "outputs": [],
   "source": [
    "class Pooling:\n",
    "    def __init__(self, pool_h, pool_w, stride=2, pad=0):\n",
    "        self.pool_h = pool_h\n",
    "        self.pool_w = pool_w\n",
    "        self.stride = stride\n",
    "        self.pad = pad\n",
    "        \n",
    "    def forward(self, x):\n",
    "        N, C, H, W = x.shape\n",
    "        out_h = int(1 + (H - self.pool_h) / self.stride)\n",
    "        out_w = int(1 + (H - self.pool_w) / self.stride)\n",
    "        \n",
    "        #Pooling用に展開\n",
    "        col = im2col(x, self.pool_h, self.pool_w, self.stride. self.pad)\n",
    "        col = col.reshape(-1, self.pool_h*self.pool_w)\n",
    "        \n",
    "        # 最大値\n",
    "        out = np.max(col, axis=1)\n",
    "        # 整形\n",
    "        out = out.reshape(N, out_h, out_w, C).transpose(0,3,1,2)\n",
    "        \n",
    "        return out"
   ]
  },
  {
   "cell_type": "code",
   "execution_count": null,
   "id": "4a42a126-b625-4338-b2a2-f30c3dff8093",
   "metadata": {},
   "outputs": [],
   "source": [
    "# class SimpleConvNet:\n",
    "#     \"\"\" 二層の畳み込みニューラルネットワーク\"\"\"\n",
    "    \n",
    "#     def __init__(self, input_dim=(1,28,28), \n",
    "#                  conv_param={'filter_num':30, 'filter_size':5, 'pad':0, 'stride':1}, \n",
    "#                  hidden_size=100, output_size=10, weight_init_std=0.01):\n",
    "        \n",
    "#         # パラメータに使用する変数の初期設定\n",
    "#         filter_num = conv_param['filter_num']\n",
    "#         filter_size = conv_param['filter_size']\n",
    "#         filter_pad = conv_param['pad']\n",
    "#         filter_stride = conv_param['stride']\n",
    "        \n",
    "#         input_size = input_dim[1]\n",
    "        \n",
    "#         conv_output_size = (input_size - filter_size + 2*filter_pad) / filter_size + 1\n",
    "#         pool_output_size = int(filter_num * (conv_output_size/2) * (conv_output_size/2))\n",
    "        \n",
    "#         # パラメータの初期設定\n",
    "#         self.params = {}\n",
    "#         self.params['W1'] = weight_init_std"
   ]
  }
 ],
 "metadata": {
  "kernelspec": {
   "display_name": "Python 3 (ipykernel)",
   "language": "python",
   "name": "python3"
  },
  "language_info": {
   "codemirror_mode": {
    "name": "ipython",
    "version": 3
   },
   "file_extension": ".py",
   "mimetype": "text/x-python",
   "name": "python",
   "nbconvert_exporter": "python",
   "pygments_lexer": "ipython3",
   "version": "3.9.7"
  }
 },
 "nbformat": 4,
 "nbformat_minor": 5
}
