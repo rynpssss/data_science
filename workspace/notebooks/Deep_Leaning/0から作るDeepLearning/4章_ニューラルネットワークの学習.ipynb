{
 "cells": [
  {
   "cell_type": "code",
   "execution_count": 1,
   "id": "f001533b-877c-42c6-9bd4-9c5ee027be05",
   "metadata": {},
   "outputs": [],
   "source": [
    "import numpy as np\n",
    "import matplotlib.pyplot as plt\n",
    "import sys\n",
    "import os\n",
    "\n",
    "from mnist import load_mnist"
   ]
  },
  {
   "cell_type": "code",
   "execution_count": 2,
   "id": "d46d04ac-4209-431f-9886-3446887b7a57",
   "metadata": {},
   "outputs": [],
   "source": [
    "%matplotlib inline"
   ]
  },
  {
   "cell_type": "markdown",
   "id": "eee2402f-2b80-457b-a198-7b2eb678de21",
   "metadata": {
    "tags": []
   },
   "source": [
    "## 4.2　損失関数\n",
    "\n",
    "Q.なぜ、認識指標での評価ではなく、損失関数を使うのか？<br>\n",
    "A.損失関数は連続値を扱えるので、勾配降下法を使ってのパラメータ探索に適している。<br>\n",
    "  一方、認識指標だとデータ数が少ないと指標が離散値となってしまう"
   ]
  },
  {
   "cell_type": "code",
   "execution_count": 3,
   "id": "c3823fe2-4e9e-43ba-8ad3-d3a22711c30f",
   "metadata": {},
   "outputs": [],
   "source": [
    "def cross_entropy_error(y, t):\n",
    "    if y.ndim == 1:\n",
    "        t = t.reshape(1, t.size)\n",
    "        y = y.reshape(1, y.size)\n",
    "        \n",
    "    # 教師データがone-hot-vectorの場合、正解ラベルのインデックスに変換\n",
    "    if t.size == y.size:\n",
    "        t = t.argmax(axis=1)\n",
    "        \n",
    "    batch_size= y.shape[0]\n",
    "    return -np.sum(np.log(y[np.arange(batch_size), t]) + 1e-7) / batch_size\n",
    "    # return -np.sum(t * np.log(y + 1e-7))"
   ]
  },
  {
   "cell_type": "code",
   "execution_count": 4,
   "id": "1219a2cc-6652-485d-a5ab-306baaac3ff1",
   "metadata": {},
   "outputs": [
    {
     "data": {
      "text/plain": [
       "0.10536041565782628"
      ]
     },
     "execution_count": 4,
     "metadata": {},
     "output_type": "execute_result"
    }
   ],
   "source": [
    "t = [0, 1]\n",
    "y = [0.1, 0.9]\n",
    "cross_entropy_error(np.array(y),np.array(t))"
   ]
  },
  {
   "cell_type": "code",
   "execution_count": 5,
   "id": "9f317919-9f4c-44ca-b03b-94f67a007ce0",
   "metadata": {},
   "outputs": [],
   "source": [
    "(x_train, t_train), (x_test, t_test) = load_mnist(one_hot_label=True, normalize=False)"
   ]
  },
  {
   "cell_type": "code",
   "execution_count": 6,
   "id": "b8a4e8e8-4739-46d3-996d-4508e28ffcf7",
   "metadata": {},
   "outputs": [
    {
     "data": {
      "text/plain": [
       "(60000, 784)"
      ]
     },
     "execution_count": 6,
     "metadata": {},
     "output_type": "execute_result"
    }
   ],
   "source": [
    "x_train.shape"
   ]
  },
  {
   "cell_type": "code",
   "execution_count": 7,
   "id": "2c539910-e3f3-4757-9ffc-3dbb93069ead",
   "metadata": {},
   "outputs": [
    {
     "data": {
      "text/plain": [
       "47040000"
      ]
     },
     "execution_count": 7,
     "metadata": {},
     "output_type": "execute_result"
    }
   ],
   "source": [
    "x_train.size"
   ]
  },
  {
   "cell_type": "markdown",
   "id": "d14a84c4-2314-4201-a923-0a553d784b6f",
   "metadata": {},
   "source": [
    "## 4.3 数値微分"
   ]
  },
  {
   "cell_type": "code",
   "execution_count": 8,
   "id": "996fb042-4007-4215-b5c8-838ccaf2da83",
   "metadata": {},
   "outputs": [],
   "source": [
    "def numerical_diff(f, x):\n",
    "    h = 1e-4\n",
    "    return (f(x+h) - f(x-h)) / (2*h)"
   ]
  },
  {
   "cell_type": "code",
   "execution_count": 9,
   "id": "dda557fe-db19-4cd5-aab1-bc0418c68df4",
   "metadata": {},
   "outputs": [],
   "source": [
    "def f_1(x):\n",
    "    return 0.01*x**2 + 0.1*x"
   ]
  },
  {
   "cell_type": "code",
   "execution_count": 10,
   "id": "e589a3ff-1a20-46bf-83cd-48f579e3fd53",
   "metadata": {},
   "outputs": [
    {
     "data": {
      "text/plain": [
       "[<matplotlib.lines.Line2D at 0x7f94a3536640>]"
      ]
     },
     "execution_count": 10,
     "metadata": {},
     "output_type": "execute_result"
    },
    {
     "data": {
      "image/png": "[encoded data removed]",
      "text/plain": [
       "<Figure size 432x288 with 1 Axes>"
      ]
     },
     "metadata": {
      "needs_background": "light"
     },
     "output_type": "display_data"
    }
   ],
   "source": [
    "x = np.arange(0, 20 ,0.1)\n",
    "y = f_1(x)\n",
    "plt.plot(x,y)"
   ]
  },
  {
   "cell_type": "code",
   "execution_count": 11,
   "id": "aa71c4a0-4f17-449a-af8f-a4067b6626c7",
   "metadata": {},
   "outputs": [],
   "source": [
    "def f_2(x):\n",
    "    return np.sum(x**2)"
   ]
  },
  {
   "cell_type": "code",
   "execution_count": 12,
   "id": "fd76a7a1-27a6-4be7-8f7b-df6f9b95172a",
   "metadata": {},
   "outputs": [],
   "source": [
    "def numerical_gradient(f, x):\n",
    "    h = 1e-4 # 0.0001\n",
    "    grad = np.zeros_like(x)\n",
    "    \n",
    "    it = np.nditer(x, flags=['multi_index'], op_flags=['readwrite'])\n",
    "    while not it.finished:\n",
    "        idx = it.multi_index\n",
    "        tmp_val = x[idx]\n",
    "        x[idx] = tmp_val + h\n",
    "        fxh1 = f(x) # f(x+h)\n",
    "        \n",
    "        x[idx] = tmp_val - h \n",
    "        fxh2 = f(x) # f(x-h)\n",
    "        grad[idx] = (fxh1 - fxh2) / (2*h)\n",
    "        \n",
    "        x[idx] = tmp_val # 値を元に戻す\n",
    "        it.iternext()   \n",
    "        \n",
    "    return grad"
   ]
  },
  {
   "cell_type": "code",
   "execution_count": 13,
   "id": "a5e58be4-e54a-4a86-aad9-cf129d28ff4c",
   "metadata": {},
   "outputs": [],
   "source": [
    "# def numerical_gradient(f, x):\n",
    "#     \"\"\" 勾配\"\"\"\n",
    "#     h = 1e-4\n",
    "#     grad = np.zeros_like(x)\n",
    "#     for idx in range(x.size):\n",
    "#         tmp = x[idx]\n",
    "#         grad[idx] = (f(tmp+h)- f(tmp-h)) / (2*h)\n",
    "        \n",
    "#     return grad\n",
    "\n",
    "def gradient_descent(f, init_x, lr=0.01, step_num=100):\n",
    "    \"\"\" 勾配降下法\"\"\"\n",
    "    x = init_x\n",
    "    \n",
    "    for _ in range(step_num):\n",
    "        grad = numerical_gradient(f, x)\n",
    "        x = x - lr*grad\n",
    "       \n",
    "    return x"
   ]
  },
  {
   "cell_type": "code",
   "execution_count": 14,
   "id": "9177b7a2-80d9-491b-965e-aec2c892640b",
   "metadata": {},
   "outputs": [],
   "source": [
    "\n",
    "def sigmoid(x):\n",
    "    return (1 / (1 + np.exp(-x)))\n",
    "\n",
    "def softmax(a):\n",
    "    c = np.max(a)\n",
    "    exp_a = np.exp(a - c)#　オーバーフロー対策\n",
    "    sum_exp_a = np.sum(exp_a) \n",
    "    return exp_a / sum_exp_a\n",
    "\n",
    "class SimpleNet:\n",
    "    def __init__(self):\n",
    "        self.W = np.random.randn(2,3)\n",
    "        \n",
    "    def predict(self, x):\n",
    "        return np.dot(x, self.W)\n",
    "    \n",
    "    def loss(self, x, t):\n",
    "        z = self.predict(x)\n",
    "        y = softmax(z)\n",
    "        loss = cross_entropy_error(y, t)\n",
    "        return loss"
   ]
  },
  {
   "cell_type": "code",
   "execution_count": 15,
   "id": "e986bf7e-6b8c-4a55-9119-540faa8d1d5b",
   "metadata": {},
   "outputs": [
    {
     "data": {
      "text/plain": [
       "array([[-2.05047235, -1.27188508,  0.53786843],\n",
       "       [ 0.28327175,  0.4446686 , -2.24676348]])"
      ]
     },
     "execution_count": 15,
     "metadata": {},
     "output_type": "execute_result"
    }
   ],
   "source": [
    "net = SimpleNet()\n",
    "net.W"
   ]
  },
  {
   "cell_type": "code",
   "execution_count": 16,
   "id": "cc0b4587-4ea6-495c-bbb2-f03f8c1dea4f",
   "metadata": {},
   "outputs": [
    {
     "data": {
      "text/plain": [
       "array([-0.97533883, -0.3629293 , -1.69936607])"
      ]
     },
     "execution_count": 16,
     "metadata": {},
     "output_type": "execute_result"
    }
   ],
   "source": [
    "x = np.array([0.6, 0.9])\n",
    "net.predict(x)"
   ]
  },
  {
   "cell_type": "code",
   "execution_count": 17,
   "id": "4ceadbf3-8458-49af-8a14-f623eee9b3ec",
   "metadata": {},
   "outputs": [
    {
     "data": {
      "text/plain": [
       "0.5904627443455165"
      ]
     },
     "execution_count": 17,
     "metadata": {},
     "output_type": "execute_result"
    }
   ],
   "source": [
    "t = np.array([0,1,0])\n",
    "net.loss(x, t)"
   ]
  },
  {
   "cell_type": "code",
   "execution_count": 18,
   "id": "24de747d-41fd-4ec6-bda4-40f2abdf054b",
   "metadata": {},
   "outputs": [],
   "source": [
    "# def f_3(_):\n",
    "#     return net.loss(x, t)\n",
    "# dW = numerical_gradient(f_3, net.W)"
   ]
  },
  {
   "cell_type": "markdown",
   "id": "421cafda-0b36-4a2f-acaf-829c4bafa185",
   "metadata": {},
   "source": [
    "## 4.5 学習アルゴリズムの実装"
   ]
  },
  {
   "cell_type": "code",
   "execution_count": 15,
   "id": "d1eea7d6-2e8b-4e1a-bc76-466adf8b6cc6",
   "metadata": {},
   "outputs": [],
   "source": [
    "class TwoLayerNet:\n",
    "    \"\"\" 二層ニューラルネットワーク\"\"\"\n",
    "\n",
    "    def __init__(self, input_size, hidden_size, output_size, wight_init_std=0.1):\n",
    "        # 重みの初期化\n",
    "        self.params = {}\n",
    "        \n",
    "        self.params['W1'] = wight_init_std * np.random.randn(input_size, hidden_size)\n",
    "        self.params['W2'] = wight_init_std * np.random.randn(hidden_size, output_size)\n",
    "        \n",
    "        self.params['b1'] = np.zeros(hidden_size)\n",
    "        self.params['b2'] = np.zeros(output_size)\n",
    "        \n",
    "\n",
    "    def predict(self, x):\n",
    "        W1, W2 = self.params['W1'], self.params['W2']\n",
    "        b1, b2 = self.params['b1'], self.params['b2']\n",
    "        \n",
    "        a1 = np.dot(x, W1) + b1\n",
    "        z1 = sigmoid(a1)\n",
    "        a2 = np.dot(z1, W2) + b2\n",
    "        y = softmax(a2)\n",
    "        return y\n",
    "    \n",
    "    def loss(self, x, t):\n",
    "        y = self.predict(x)\n",
    "        return cross_entropy_error(y, t)\n",
    "        \n",
    "    def accuracy(self, x, t):\n",
    "        y = self.predict(x)\n",
    "        y = np.argmax(y, axis=1)\n",
    "        t = np.argmax(t, axis=1)\n",
    "\n",
    "        accuracy = np.sum(y == t) / float(x.shape[0])\n",
    "        return accuracy\n",
    "    \n",
    "    def numerical_gradient(self, x, t):\n",
    "        loss_W = lambda W : self.loss(x,t)\n",
    "        \n",
    "        grads = {}\n",
    "        grads['W1'] = numerical_gradient(loss_W, self.params['W1'])\n",
    "        grads['b1'] = numerical_gradient(loss_W, self.params['b1'])\n",
    "        \n",
    "        grads['W2'] = numerical_gradient(loss_W, self.params['W2'])\n",
    "        grads['b2'] = numerical_gradient(loss_W, self.params['b2'])\n",
    "    \n",
    "        return grads"
   ]
  },
  {
   "cell_type": "code",
   "execution_count": 19,
   "id": "5fbb6b0f-33df-4d7c-a0c8-7271b80e15d2",
   "metadata": {},
   "outputs": [
    {
     "name": "stdout",
     "output_type": "stream",
     "text": [
      "(784, 100)\n",
      "(100,)\n",
      "(100, 10)\n",
      "(10,)\n"
     ]
    }
   ],
   "source": [
    "net = TwoLayerNet(input_size=784, hidden_size=100, output_size=10)\n",
    "print(net.params['W1'].shape)\n",
    "print(net.params['b1'].shape)\n",
    "print(net.params['W2'].shape)\n",
    "print(net.params['b2'].shape)"
   ]
  },
  {
   "cell_type": "code",
   "execution_count": 20,
   "id": "0acc77fa-64c0-4cd4-8cd3-d6442716c666",
   "metadata": {},
   "outputs": [],
   "source": [
    "x = np.random.randn(100, 784)\n",
    "y = net.predict(x)"
   ]
  },
  {
   "cell_type": "code",
   "execution_count": 21,
   "id": "759a3db4-5435-4684-9361-e5a1982fd7c4",
   "metadata": {},
   "outputs": [],
   "source": [
    "# x = np.random.randn(100, 784)\n",
    "# t = np.random.randn(100, 10)\n",
    "\n",
    "# grads = net.numerical_gradient(x, t)"
   ]
  },
  {
   "cell_type": "code",
   "execution_count": 22,
   "id": "21f17ea5-9fe8-45a6-ab8b-46bb2e29799e",
   "metadata": {},
   "outputs": [],
   "source": [
    "# print(grads['W1'].shape)\n",
    "# print(grads['b1'].shape)\n",
    "# print(grads['W2'].shape)\n",
    "# print(['b2'].shape)"
   ]
  },
  {
   "cell_type": "code",
   "execution_count": 29,
   "id": "21a64e29-35c4-47a2-b622-f1083231e748",
   "metadata": {
    "tags": []
   },
   "outputs": [],
   "source": [
    "(x_train, t_train), (x_test, y_test) = load_mnist(normalize=True, one_hot_label=True)\n",
    "\n",
    "train_loss_list = []\n",
    "iters_num=1\n",
    "train_size=x_train.shape[0]\n",
    "batch_size=100\n",
    "learning_rate=0.1\n",
    "\n",
    "network = TwoLayerNet(input_size=784, hidden_size=50, output_size=10)\n",
    "\n",
    "for i in range(iters_num):\n",
    "    # ミニバッチ取得\n",
    "    batch_mask = np.random.choice(train_size, batch_size)\n",
    "    x_batch = x_train[batch_mask]\n",
    "    t_batch = t_train[batch_mask]\n",
    "    \n",
    "    # 確率的勾配降下法\n",
    "    grad = network.numerical_gradient(x_batch, t_batch)\n",
    "    for key in (\"W1\", \"b1\", \"W2\", \"b2\"):\n",
    "        network.params[key] = network.params[key] - learning_rate*grad[key]\n",
    "        \n",
    "    # 学習経過記録\n",
    "    loss = network.loss(x_batch, t_batch)\n",
    "    train_loss_list.append(loss)"
   ]
  },
  {
   "cell_type": "code",
   "execution_count": null,
   "id": "729b00f4-8463-41e3-8cc3-941a273ba859",
   "metadata": {},
   "outputs": [],
   "source": []
  },
  {
   "cell_type": "code",
   "execution_count": null,
   "id": "80c10d0d-bc27-4eb2-9c4b-430fcc9656a1",
   "metadata": {},
   "outputs": [],
   "source": []
  },
  {
   "cell_type": "code",
   "execution_count": null,
   "id": "3da951dd-bb96-4582-9d2c-edc583759514",
   "metadata": {},
   "outputs": [],
   "source": []
  }
 ],
 "metadata": {
  "kernelspec": {
   "display_name": "Python 3 (ipykernel)",
   "language": "python",
   "name": "python3"
  },
  "language_info": {
   "codemirror_mode": {
    "name": "ipython",
    "version": 3
   },
   "file_extension": ".py",
   "mimetype": "text/x-python",
   "name": "python",
   "nbconvert_exporter": "python",
   "pygments_lexer": "ipython3",
   "version": "3.9.7"
  }
 },
 "nbformat": 4,
 "nbformat_minor": 5
}
