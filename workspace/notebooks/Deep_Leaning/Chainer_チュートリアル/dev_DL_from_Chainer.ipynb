{
 "cells": [
  {
   "cell_type": "markdown",
   "id": "eb167459-d3a1-4948-ad18-c6b25a98ccc1",
   "metadata": {},
   "source": [
    "# ChainerによるDeep Learning実装（応用）"
   ]
  },
  {
   "cell_type": "markdown",
   "id": "b1d62241-1eb9-4922-a324-834318aabdd3",
   "metadata": {},
   "source": [
    "# Step1 データセットの準備"
   ]
  },
  {
   "cell_type": "code",
   "execution_count": 1,
   "id": "195545c0-24d0-4016-8102-537da5d60deb",
   "metadata": {},
   "outputs": [],
   "source": [
    "from sklearn.datasets import load_iris\n",
    "\n",
    "x, t = load_iris(return_X_y=True)\n",
    "x = x.astype('float32')\n",
    "t = t.astype('int32')"
   ]
  },
  {
   "cell_type": "code",
   "execution_count": 2,
   "id": "c9362658-6851-43a9-bbf1-dc0fef717bba",
   "metadata": {},
   "outputs": [],
   "source": [
    "# TupleDatasetにて、入力データと目的データをタプルとして扱えるようにする\n",
    "from chainer.datasets import TupleDataset\n",
    "\n",
    "dataset = TupleDataset(x, t)"
   ]
  },
  {
   "cell_type": "code",
   "execution_count": 4,
   "id": "213862b2-a2c6-4cbf-9a8b-33cf996aac59",
   "metadata": {},
   "outputs": [
    {
     "data": {
      "text/plain": [
       "(array([5.1, 3.5, 1.4, 0.2], dtype=float32), 0)"
      ]
     },
     "execution_count": 4,
     "metadata": {},
     "output_type": "execute_result"
    }
   ],
   "source": [
    "dataset[0]"
   ]
  },
  {
   "cell_type": "code",
   "execution_count": 8,
   "id": "2d865c7b-9078-4c71-a337-4396b9302ebe",
   "metadata": {},
   "outputs": [],
   "source": [
    "# データセットの分割\n",
    "# 訓練データ・検証データ・テストデータに分割\n",
    "\n",
    "from chainer.datasets import split_dataset_random\n",
    "\n",
    "# datasetのうち、70%：train_val、30%：test\n",
    "# train_valのうち、70%：train、30%：valid\n",
    "train_val, test = split_dataset_random(dataset, int(len(dataset)*0.7), seed=0)\n",
    "train, valid = split_dataset_random(train_val, int(len(train_val)*0.7), seed=0)"
   ]
  },
  {
   "cell_type": "code",
   "execution_count": 11,
   "id": "81bf44c2-7e1d-4252-89a1-77709ee5e9dd",
   "metadata": {},
   "outputs": [
    {
     "data": {
      "text/plain": [
       "[(array([5. , 3.6, 1.4, 0.2], dtype=float32), 0),\n",
       " (array([6.2, 3.4, 5.4, 2.3], dtype=float32), 2),\n",
       " (array([6.1, 3. , 4.6, 1.4], dtype=float32), 1),\n",
       " (array([5.3, 3.7, 1.5, 0.2], dtype=float32), 0)]"
      ]
     },
     "execution_count": 11,
     "metadata": {},
     "output_type": "execute_result"
    }
   ],
   "source": [
    "# serialIterator\n",
    "# イテレータとして、next()をすると次のデータを返してくれる\n",
    "from chainer.iterators import SerialIterator\n",
    "\n",
    "train_iter = SerialIterator(train, batch_size=4, repeat=True, shuffle=True)\n",
    "minibatch = train_iter.next()\n",
    "\n",
    "minibatch"
   ]
  },
  {
   "cell_type": "markdown",
   "id": "d35e725b-af7d-42b7-bceb-08f96c3e5d84",
   "metadata": {},
   "source": [
    "# Step2　ニューラルネットワークを設定（応用）"
   ]
  },
  {
   "cell_type": "code",
   "execution_count": 12,
   "id": "4423c06c-ec97-452c-b388-fd0c508b798d",
   "metadata": {},
   "outputs": [],
   "source": [
    "import chainer\n",
    "import chainer.links as L\n",
    "import chainer.functions as F"
   ]
  },
  {
   "cell_type": "code",
   "execution_count": 15,
   "id": "6035de8b-f03c-4c50-9916-281e0f3720b2",
   "metadata": {},
   "outputs": [],
   "source": [
    "# chainer.Chainはlinsクラスを継承しているので、linksを自由に使える\n",
    "# forwardを定義することで、自由にネットワークを組める（今回は基礎と同じ構成）\n",
    "class Net(chainer.Chain):\n",
    "    def __init__(self, n_in=4, n_hidden=3, n_out=3):\n",
    "        super().__init__()\n",
    "        with self.init_scope():\n",
    "            self.l1 = L.Linear(n_in, n_hidden)\n",
    "            self.l2 = L.Linear(n_hidden, n_hidden)\n",
    "            self.l3 = L.Linear(n_hidden, n_out)\n",
    "    \n",
    "    def forward(self, x):\n",
    "        h = F.relu(self.l1(x))\n",
    "        h = F.relu(self.l2(h))\n",
    "        h = self.l3(h)\n",
    "        \n",
    "        return h"
   ]
  },
  {
   "cell_type": "code",
   "execution_count": 16,
   "id": "91a1a220-a9b1-4e12-ba76-eae826210a44",
   "metadata": {},
   "outputs": [],
   "source": [
    "# init_scopeを使ったメリットは、n_in/n_hidden/n_outを設定可能\n",
    "\n",
    "# 隠れそ層の変更\n",
    "net = Net(n_hidden=100)"
   ]
  },
  {
   "cell_type": "markdown",
   "id": "3d361e15-b234-48b2-8f70-83ff4c676251",
   "metadata": {},
   "source": [
    "# step3 目的関数の設定（応用）"
   ]
  },
  {
   "cell_type": "code",
   "execution_count": 18,
   "id": "cb4c6613-b168-4ae7-9621-e381042aacb9",
   "metadata": {},
   "outputs": [],
   "source": [
    "#　目的関数に正則化を追加\n",
    "\n",
    "# L2ノルム（waight_decay）を適応\n",
    "from chainer import optimizers\n",
    "from chainer.optimizer_hooks import WeightDecay\n",
    "\n",
    "optimizer = optimizers.SGD(lr=0.01)\n",
    "optimizer.setup(net)\n",
    "\n",
    "for param in net.params():\n",
    "    if param.name != 'b':\n",
    "        param.update_rule.add_hook(WeightDecay(0.0001))"
   ]
  },
  {
   "cell_type": "markdown",
   "id": "48935edb-08f2-4d0e-be8e-7e934636b553",
   "metadata": {},
   "source": [
    "# Step4 最適化手法の設定（応用）"
   ]
  },
  {
   "cell_type": "code",
   "execution_count": 19,
   "id": "7ec286a6-bcd6-4187-b60a-6e73baa6bf11",
   "metadata": {},
   "outputs": [],
   "source": [
    "# 最適化手法にMomentumを使う\n",
    "\n",
    "from chainer import optimizers\n",
    "from chainer.optimizer_hooks import WeightDecay\n",
    "\n",
    "optimizer = optimizers.MomentumSGD(lr=0.001, momentum=0.9)\n",
    "optimizer.setup(net)\n",
    "\n",
    "for param in net.params():\n",
    "    if param.name != 'b':\n",
    "        param.update_rule.add_hook(WeightDecay(0.0001))"
   ]
  },
  {
   "cell_type": "markdown",
   "id": "47cb9ab3-015c-468f-afb4-011f102a6cad",
   "metadata": {},
   "source": [
    "# Step5 ニューラルネットワークの訓練（応用）\n",
    "\n",
    "高速化のためにGPUを用いる ※ローカルでは動かない"
   ]
  },
  {
   "cell_type": "code",
   "execution_count": 20,
   "id": "f0c21bf9-c638-4b6a-baba-c09e269bc156",
   "metadata": {},
   "outputs": [
    {
     "ename": "RuntimeError",
     "evalue": "CUDA environment is not correctly set up\n(see https://github.com/chainer/chainer#installation).No module named 'cupy'",
     "output_type": "error",
     "traceback": [
      "\u001b[0;31m---------------------------------------------------------------------------\u001b[0m",
      "\u001b[0;31mRuntimeError\u001b[0m                              Traceback (most recent call last)",
      "Input \u001b[0;32mIn [20]\u001b[0m, in \u001b[0;36m<module>\u001b[0;34m\u001b[0m\n\u001b[1;32m      3\u001b[0m n_epoch \u001b[38;5;241m=\u001b[39m \u001b[38;5;241m50\u001b[39m\n\u001b[1;32m      5\u001b[0m \u001b[38;5;66;03m# ネットワークをGPUメモリに転送\u001b[39;00m\n\u001b[0;32m----> 6\u001b[0m \u001b[43mnet\u001b[49m\u001b[38;5;241;43m.\u001b[39;49m\u001b[43mto_gpu\u001b[49m\u001b[43m(\u001b[49m\u001b[43mgpu_id\u001b[49m\u001b[43m)\u001b[49m\n",
      "File \u001b[0;32m/usr/local/lib/python3.9/site-packages/chainer/device_resident.py:117\u001b[0m, in \u001b[0;36mDeviceResident.to_gpu\u001b[0;34m(self, device)\u001b[0m\n\u001b[1;32m     91\u001b[0m \u001b[38;5;129m@utils\u001b[39m\u001b[38;5;241m.\u001b[39mfinal(action\u001b[38;5;241m=\u001b[39m\u001b[38;5;167;01mDeprecationWarning\u001b[39;00m)\n\u001b[1;32m     92\u001b[0m \u001b[38;5;28;01mdef\u001b[39;00m \u001b[38;5;21mto_gpu\u001b[39m(\n\u001b[1;32m     93\u001b[0m         \u001b[38;5;28mself\u001b[39m,\n\u001b[1;32m     94\u001b[0m         device: tp\u001b[38;5;241m.\u001b[39mOptional[types\u001b[38;5;241m.\u001b[39mCudaDeviceSpec] \u001b[38;5;241m=\u001b[39m \u001b[38;5;28;01mNone\u001b[39;00m,\n\u001b[1;32m     95\u001b[0m ) \u001b[38;5;241m-\u001b[39m\u001b[38;5;241m>\u001b[39m \u001b[38;5;124m'\u001b[39m\u001b[38;5;124mDeviceResident\u001b[39m\u001b[38;5;124m'\u001b[39m:\n\u001b[1;32m     96\u001b[0m     \u001b[38;5;124;03m\"\"\"Copies parameter variables and persistent values to GPU.\u001b[39;00m\n\u001b[1;32m     97\u001b[0m \n\u001b[1;32m     98\u001b[0m \u001b[38;5;124;03m     .. deprecated:: v7.0.0\u001b[39;00m\n\u001b[0;32m   (...)\u001b[0m\n\u001b[1;32m    115\u001b[0m \n\u001b[1;32m    116\u001b[0m \u001b[38;5;124;03m    \"\"\"\u001b[39;00m\n\u001b[0;32m--> 117\u001b[0m     \u001b[43mcuda\u001b[49m\u001b[38;5;241;43m.\u001b[39;49m\u001b[43mcheck_cuda_available\u001b[49m\u001b[43m(\u001b[49m\u001b[43m)\u001b[49m\n\u001b[1;32m    118\u001b[0m     cuda_device \u001b[38;5;241m=\u001b[39m cuda\u001b[38;5;241m.\u001b[39m_get_device_or_current(device)\n\u001b[1;32m    119\u001b[0m     device \u001b[38;5;241m=\u001b[39m chainer\u001b[38;5;241m.\u001b[39mbackends\u001b[38;5;241m.\u001b[39mcuda\u001b[38;5;241m.\u001b[39mGpuDevice(cuda_device)\n",
      "File \u001b[0;32m/usr/local/lib/python3.9/site-packages/chainer/backends/cuda.py:150\u001b[0m, in \u001b[0;36mcheck_cuda_available\u001b[0;34m()\u001b[0m\n\u001b[1;32m    147\u001b[0m     msg \u001b[38;5;241m=\u001b[39m (\u001b[38;5;124m'\u001b[39m\u001b[38;5;124mCUDA environment is not correctly set up\u001b[39m\u001b[38;5;130;01m\\n\u001b[39;00m\u001b[38;5;124m'\u001b[39m\n\u001b[1;32m    148\u001b[0m            \u001b[38;5;124m'\u001b[39m\u001b[38;5;124m(see https://github.com/chainer/chainer#installation).\u001b[39m\u001b[38;5;124m'\u001b[39m)\n\u001b[1;32m    149\u001b[0m     msg \u001b[38;5;241m+\u001b[39m\u001b[38;5;241m=\u001b[39m \u001b[38;5;28mstr\u001b[39m(_resolution_error)\n\u001b[0;32m--> 150\u001b[0m     \u001b[38;5;28;01mraise\u001b[39;00m \u001b[38;5;167;01mRuntimeError\u001b[39;00m(msg)\n\u001b[1;32m    151\u001b[0m \u001b[38;5;28;01mif\u001b[39;00m (\u001b[38;5;129;01mnot\u001b[39;00m cudnn_enabled \u001b[38;5;129;01mand\u001b[39;00m\n\u001b[1;32m    152\u001b[0m         \u001b[38;5;129;01mnot\u001b[39;00m _cudnn_disabled_by_user \u001b[38;5;129;01mand\u001b[39;00m\n\u001b[1;32m    153\u001b[0m         \u001b[38;5;129;01mnot\u001b[39;00m \u001b[38;5;28mgetattr\u001b[39m(check_cuda_available, \u001b[38;5;124m'\u001b[39m\u001b[38;5;124m_already_warned\u001b[39m\u001b[38;5;124m'\u001b[39m, \u001b[38;5;28;01mFalse\u001b[39;00m)):\n\u001b[1;32m    154\u001b[0m     warnings\u001b[38;5;241m.\u001b[39mwarn(\n\u001b[1;32m    155\u001b[0m         \u001b[38;5;124m'\u001b[39m\u001b[38;5;124mcuDNN is not enabled.\u001b[39m\u001b[38;5;130;01m\\n\u001b[39;00m\u001b[38;5;124m'\u001b[39m\n\u001b[1;32m    156\u001b[0m         \u001b[38;5;124m'\u001b[39m\u001b[38;5;124mPlease reinstall CuPy after you install cudnn\u001b[39m\u001b[38;5;130;01m\\n\u001b[39;00m\u001b[38;5;124m'\u001b[39m\n\u001b[1;32m    157\u001b[0m         \u001b[38;5;124m'\u001b[39m\u001b[38;5;124m(see https://docs-cupy.chainer.org/en/stable/install.html\u001b[39m\u001b[38;5;124m'\u001b[39m\n\u001b[1;32m    158\u001b[0m         \u001b[38;5;124m'\u001b[39m\u001b[38;5;124m#install-cudnn).\u001b[39m\u001b[38;5;124m'\u001b[39m)\n",
      "\u001b[0;31mRuntimeError\u001b[0m: CUDA environment is not correctly set up\n(see https://github.com/chainer/chainer#installation).No module named 'cupy'"
     ]
    }
   ],
   "source": [
    "gpu_id = 0\n",
    "n_batch = 64\n",
    "n_epoch = 50\n",
    "\n",
    "# ネットワークをGPUメモリに転送\n",
    "net.to_gpu(gpu_id)\n",
    "\n",
    "# ログ\n",
    "results_train, results_valid = {}, {}\n",
    "results_train['loss'], results_train['accuracy'] = [], []\n",
    "results_valid['loss'], results_valid['accuracy'] = [], []\n",
    "\n",
    "train_iter.reset()\n",
    "\n",
    "count = 1\n",
    "\n",
    "for epoch in range(n_epoch):\n",
    "    while True:\n",
    "        \n",
    "        # ミニバッチの取得\n",
    "        train_batch = train_iter.next()\n",
    "        \n",
    "        # xとtの分割\n",
    "        # データをGPUに転送するため、concat_examplesにgpu_idを渡す\n",
    "        x_train, t_train = chainer.dataset.concat_excamples(train_batch, gpu_id)\n",
    "        \n",
    "        # 予測値と目的関数の計算\n",
    "        y_train = net(x_train)\n",
    "        loss_train = F.softmax_cross_entropy(y_train, t_train)\n",
    "        acc_train = F.accuracy(y_train, t_train)\n",
    "        \n",
    "        # 勾配の初期化と勾配計算\n",
    "        net.cleargrads()\n",
    "        loss_train.backward()\n",
    "        \n",
    "        # パラメータの更新\n",
    "        optimizer.update()\n",
    "        \n",
    "        # カウントアップ\n",
    "        count += 1\n",
    "        \n",
    "        # 1エポック終えたら、validデータを取得\n",
    "        if train_iter.is_new_epoch:\n",
    "            \n",
    "            # 訓練データに対する結果の確認\n",
    "            with chainer.using_config('train', False), chainer.using_config('enable_backprop', False):\n",
    "                x_valid, t_valid = chainer.dataset.concat_examples(valid, gpu_id)\n",
    "                y_valid = net(x_valid)\n",
    "                loss_valid = F.softmax_cross_entropy(y_valid, t_valid)\n",
    "                acc_valid = F.accuracy(y_valid, t_valid)\n",
    "                \n",
    "            # 注意：GPU結果をCPUに転送\n",
    "            loss_train.to_cpu()\n",
    "            loss_valid.to_cpu()\n",
    "            acc_train.to_cpu()\n",
    "            acc_valid.to_cpu()\n",
    "            \n",
    "            # 結果の表示\n",
    "            print(f\"epoch:{epoch}, iteration:{iteration}, \\\n",
    "                    loss(train):{loss_train.array.mean():.4f}, loss(valid):{loss_valid.array.mean():.4f}\\\n",
    "                    acc(train):{acc_train.array.mean():.4f}, acc(valid):{acc_valid.array.mean():.4f}\")\n",
    "            \n",
    "            # 可視化用に保存\n",
    "            results_train['loss'] .append(loss_train.array)\n",
    "            results_train['accuracy'] .append(acc_train.array)\n",
    "            results_valid['loss'].append(loss_valid.array)\n",
    "            results_valid['accuracy'].append(acc_valid.array)\n",
    "\n",
    "            break"
   ]
  },
  {
   "cell_type": "code",
   "execution_count": null,
   "id": "2738710b-679c-4d71-a7e5-dd17aa5f09df",
   "metadata": {},
   "outputs": [],
   "source": []
  }
 ],
 "metadata": {
  "kernelspec": {
   "display_name": "Python 3 (ipykernel)",
   "language": "python",
   "name": "python3"
  },
  "language_info": {
   "codemirror_mode": {
    "name": "ipython",
    "version": 3
   },
   "file_extension": ".py",
   "mimetype": "text/x-python",
   "name": "python",
   "nbconvert_exporter": "python",
   "pygments_lexer": "ipython3",
   "version": "3.9.7"
  }
 },
 "nbformat": 4,
 "nbformat_minor": 5
}
