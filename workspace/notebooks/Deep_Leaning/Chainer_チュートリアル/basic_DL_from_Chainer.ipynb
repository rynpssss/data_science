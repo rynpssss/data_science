{
 "cells": [
  {
   "cell_type": "markdown",
   "id": "3fad4e82-5052-4299-ae50-3f712090d3d3",
   "metadata": {},
   "source": [
    "# ChainerによるDeep Learning実装（基礎）"
   ]
  },
  {
   "cell_type": "code",
   "execution_count": 2,
   "id": "5c706d4e-9ce1-41f9-bd2b-1aeb0c29364c",
   "metadata": {},
   "outputs": [],
   "source": [
    "import chainer"
   ]
  },
  {
   "cell_type": "code",
   "execution_count": 3,
   "id": "0d171994-92d7-47d4-81b4-8fb9c6a7e335",
   "metadata": {},
   "outputs": [
    {
     "name": "stdout",
     "output_type": "stream",
     "text": [
      "Platform: Linux-4.19.121-linuxkit-x86_64-with-glibc2.28\n",
      "Chainer: 7.8.1\n",
      "ChainerX: Not Available\n",
      "NumPy: 1.22.2\n",
      "CuPy: Not Available\n",
      "iDeep: Not Available\n"
     ]
    }
   ],
   "source": [
    "chainer.print_runtime_info()"
   ]
  },
  {
   "cell_type": "markdown",
   "id": "e1e7be56-b5ac-4424-8da7-65b06be5e01e",
   "metadata": {},
   "source": [
    "# Step1　データ準備"
   ]
  },
  {
   "cell_type": "code",
   "execution_count": 9,
   "id": "db82a975-a135-4940-947b-0c5979befca0",
   "metadata": {},
   "outputs": [
    {
     "name": "stdout",
     "output_type": "stream",
     "text": [
      "x: (150, 4)\n",
      "t: (150,)\n"
     ]
    }
   ],
   "source": [
    "from sklearn.datasets import load_iris\n",
    "\n",
    "# Iris データセットの読み込み\n",
    "x, t = load_iris(return_X_y=True)\n",
    "\n",
    "print('x:', x.shape)\n",
    "print('t:', t.shape)"
   ]
  },
  {
   "cell_type": "code",
   "execution_count": 5,
   "id": "16b86c10-d8bd-43ef-8c0d-607135700ea4",
   "metadata": {},
   "outputs": [],
   "source": [
    "# それぞれデータ型をChainer用に変換\n",
    "x = x.astype('float32')\n",
    "t = t.astype('int32')"
   ]
  },
  {
   "cell_type": "code",
   "execution_count": 8,
   "id": "b25c1e79-d238-4c0b-9bb2-086f151e2b77",
   "metadata": {},
   "outputs": [],
   "source": [
    "# データセットの分割\n",
    "from sklearn.model_selection import train_test_split\n",
    "\n",
    "# 訓練データ・検証データ・テストデータに分割\n",
    "x_train_val, x_test, t_train_val, t_test = train_test_split(x, t, test_size=0.3, random_state=0)\n",
    "x_train, x_val, t_train, t_val = train_test_split(x_train_val, t_train_val, test_size=0.3, random_state=0)"
   ]
  },
  {
   "cell_type": "markdown",
   "id": "e6da54d3-b5d0-4db5-88f1-994014b98287",
   "metadata": {},
   "source": [
    "# Step2 ニューラルネットワークの設定"
   ]
  },
  {
   "cell_type": "code",
   "execution_count": 10,
   "id": "2059c3d9-5617-4c9e-a044-c54a26162d98",
   "metadata": {},
   "outputs": [],
   "source": [
    "import chainer.links as L\n",
    "import chainer.functions as F"
   ]
  },
  {
   "cell_type": "code",
   "execution_count": 12,
   "id": "e878797a-23d1-4ff7-9c4d-4874ed011281",
   "metadata": {},
   "outputs": [],
   "source": [
    "# 全結合層のReLU関数\n",
    "l = L.Linear(3,2)\n",
    "\n",
    "from chainer import Sequential\n",
    "# netとしてインスタンス化\n",
    "# 元データの入力データが4層・2つ目は10層の全結合層を準備\n",
    "# 結果は3種類の分類\n",
    "n_input = 4\n",
    "n_hidden = 10\n",
    "n_output = 3\n",
    "\n",
    "net = Sequential(\n",
    "    L.Linear(n_input, n_hidden), F.relu,\n",
    "    L.Linear(n_hidden, n_hidden), F.relu,\n",
    "    L.Linear(n_hidden, n_output)\n",
    ")"
   ]
  },
  {
   "cell_type": "markdown",
   "id": "ac294f88-e717-4b68-a236-ff8197d4f6a0",
   "metadata": {},
   "source": [
    "# Step3 目的関数の設定\n",
    "\n",
    "目的関数：交差エントロピー　※分類問題の一般的な目的関数を使用"
   ]
  },
  {
   "cell_type": "markdown",
   "id": "ad077d6c-2f35-4a45-8a8c-8d53c9b8982d",
   "metadata": {},
   "source": [
    "# Step4　最適化手法を設定\n",
    "\n",
    "今回は確率的勾配降下法を使用"
   ]
  },
  {
   "cell_type": "code",
   "execution_count": 13,
   "id": "a090adc1-293b-43b9-8be1-4c8b1b0f0a4f",
   "metadata": {},
   "outputs": [],
   "source": [
    "optimizer = chainer.optimizers.SGD(lr=0.01)"
   ]
  },
  {
   "cell_type": "code",
   "execution_count": 14,
   "id": "70d19923-d7f4-4fae-8190-ab554c5a61c7",
   "metadata": {},
   "outputs": [
    {
     "data": {
      "text/plain": [
       "<chainer.optimizers.sgd.SGD at 0x7fe980a27a00>"
      ]
     },
     "execution_count": 14,
     "metadata": {},
     "output_type": "execute_result"
    }
   ],
   "source": [
    "# netを最適化手法に合わせて更新する\n",
    "optimizer.setup(net)"
   ]
  },
  {
   "cell_type": "markdown",
   "id": "68ee13e8-8cd5-4054-b9f5-a98372d8d054",
   "metadata": {},
   "source": [
    "# Step5　ニューラルネットワークの訓練"
   ]
  },
  {
   "cell_type": "code",
   "execution_count": 15,
   "id": "af5d5b1d-0e9e-4131-b6c4-59a04d907244",
   "metadata": {},
   "outputs": [],
   "source": [
    "# 訓練用のエポック数とバッチサイズ\n",
    "n_epoch = 30\n",
    "n_batchsize = 16"
   ]
  },
  {
   "cell_type": "code",
   "execution_count": 28,
   "id": "e6d5dba3-c1bb-4ee4-9ab5-64593e58e095",
   "metadata": {},
   "outputs": [
    {
     "name": "stdout",
     "output_type": "stream",
     "text": [
      "epoch:0 iteration:5 loss(train):0.2565 loss(valid):0.1953\n",
      "epoch:1 iteration:10 loss(train):0.2620 loss(valid):0.1933\n",
      "epoch:2 iteration:15 loss(train):0.2629 loss(valid):0.1901\n",
      "epoch:3 iteration:20 loss(train):0.2602 loss(valid):0.2064\n",
      "epoch:4 iteration:25 loss(train):0.2537 loss(valid):0.1887\n",
      "epoch:5 iteration:30 loss(train):0.2472 loss(valid):0.1880\n",
      "epoch:6 iteration:35 loss(train):0.2445 loss(valid):0.1946\n",
      "epoch:7 iteration:40 loss(train):0.2496 loss(valid):0.1796\n",
      "epoch:8 iteration:45 loss(train):0.2374 loss(valid):0.1775\n",
      "epoch:9 iteration:50 loss(train):0.2572 loss(valid):0.1755\n",
      "epoch:10 iteration:55 loss(train):0.2388 loss(valid):0.1750\n",
      "epoch:11 iteration:60 loss(train):0.2406 loss(valid):0.1715\n",
      "epoch:12 iteration:65 loss(train):0.2207 loss(valid):0.1704\n",
      "epoch:13 iteration:70 loss(train):0.2191 loss(valid):0.1680\n",
      "epoch:14 iteration:75 loss(train):0.2262 loss(valid):0.1704\n",
      "epoch:15 iteration:80 loss(train):0.2372 loss(valid):0.1639\n",
      "epoch:16 iteration:85 loss(train):0.2330 loss(valid):0.1622\n",
      "epoch:17 iteration:90 loss(train):0.2288 loss(valid):0.1786\n",
      "epoch:18 iteration:95 loss(train):0.2348 loss(valid):0.1626\n",
      "epoch:19 iteration:100 loss(train):0.2172 loss(valid):0.1577\n",
      "epoch:20 iteration:105 loss(train):0.2175 loss(valid):0.1709\n",
      "epoch:21 iteration:110 loss(train):0.2121 loss(valid):0.1535\n",
      "epoch:22 iteration:115 loss(train):0.2090 loss(valid):0.1522\n",
      "epoch:23 iteration:120 loss(train):0.1960 loss(valid):0.1655\n",
      "epoch:24 iteration:125 loss(train):0.2124 loss(valid):0.1497\n",
      "epoch:25 iteration:130 loss(train):0.2010 loss(valid):0.1467\n",
      "epoch:26 iteration:135 loss(train):0.2078 loss(valid):0.1848\n",
      "epoch:27 iteration:140 loss(train):0.2208 loss(valid):0.2209\n",
      "epoch:28 iteration:145 loss(train):0.1994 loss(valid):0.1420\n",
      "epoch:29 iteration:150 loss(train):0.1996 loss(valid):0.1411\n"
     ]
    }
   ],
   "source": [
    "# 訓練の実装\n",
    "import numpy as np\n",
    "\n",
    "iteration = 0\n",
    "\n",
    "# ログの保存用\n",
    "results_train = {\n",
    "    'loss':[],\n",
    "    'accuracy':[]\n",
    "}\n",
    "results_valid = {\n",
    "    'loss':[],\n",
    "    'accuracy':[]\n",
    "}\n",
    "\n",
    "\n",
    "for epoch in range(n_epoch):\n",
    "    \n",
    "    #　データセット並び替えた順番を取得\n",
    "    order = np.random.permutation(range(len(x_train)))\n",
    "    \n",
    "    # 各バッチの目的関数の出力と分類精度の保存用\n",
    "    loss_list = []\n",
    "    accuracy_list = []\n",
    "    \n",
    "    for i in range(0, len(order), n_batchsize):\n",
    "        # バッチ準備\n",
    "        index = order[i:i+n_batchsize]\n",
    "        x_train_batch = x_train[index,:]\n",
    "        t_train_batch = t_train[index]\n",
    "        \n",
    "        # 予測値の出力\n",
    "        y_train_batch = net(x_train_batch)\n",
    "        \n",
    "        # 目的関数を適応して、分類精度の計算\n",
    "        loss_train_batch = F.softmax_cross_entropy(y_train_batch, t_train_batch)\n",
    "        accuracy_train_batch = F.accuracy(y_train_batch, t_train_batch)\n",
    "        \n",
    "        loss_list.append(loss_train_batch.array)\n",
    "        accuracy_list.append(accuracy_train_batch.array)\n",
    "        \n",
    "        # 勾配リセットと勾配の計算\n",
    "        net.cleargrads()\n",
    "        loss_train_batch.backward()\n",
    "        \n",
    "        # パラメータの更新\n",
    "        optimizer.update()\n",
    "        \n",
    "        # カウントアップ\n",
    "        iteration += 1\n",
    "    \n",
    "    # 訓練データに対する目的関数の出力と分類精度の集計\n",
    "    loss_train = np.mean(loss_list)\n",
    "    accuracy_train = np.mean(accuracy_list)\n",
    "    \n",
    "    # 1エポック終えたら、検証データで評価\n",
    "    # 検証データで予測値を出力\n",
    "    with chainer.using_config('train', False), chainer.using_config('enable_backprop', False):\n",
    "        y_val = net(x_val)\n",
    "        \n",
    "    # 目的関数を適応して、分類精度の計算\n",
    "    loss_val = F.softmax_cross_entropy(y_val, t_val)\n",
    "    accuracy_val = F.accuracy(y_val, t_val)\n",
    "    \n",
    "    # 結果出力\n",
    "    print(f\"epoch:{epoch} iteration:{iteration} loss(train):{loss_train:.4f} loss(valid):{loss_val.array:.4f}\")\n",
    "    \n",
    "    # ログの保存\n",
    "    results_train['loss'].append(loss_train)\n",
    "    results_train['accuracy'].append(accuracy_train)\n",
    "    results_valid['loss'].append(loss_val.array)\n",
    "    results_valid['accuracy'].append(accuracy_val.array)"
   ]
  },
  {
   "cell_type": "code",
   "execution_count": 29,
   "id": "fc111f49-8f3f-4ac1-b7a7-99b90b941326",
   "metadata": {},
   "outputs": [],
   "source": [
    "import matplotlib.pyplot as plt\n",
    "%matplotlib inline"
   ]
  },
  {
   "cell_type": "code",
   "execution_count": 30,
   "id": "45717e88-c23c-4a7f-9d43-d220071f0d64",
   "metadata": {},
   "outputs": [
    {
     "data": {
      "text/plain": [
       "<matplotlib.legend.Legend at 0x7fe97cc11220>"
      ]
     },
     "execution_count": 30,
     "metadata": {},
     "output_type": "execute_result"
    },
    {
     "data": {
      "image/png": "[encoded data removed]",
      "text/plain": [
       "<Figure size 432x288 with 1 Axes>"
      ]
     },
     "metadata": {
      "needs_background": "light"
     },
     "output_type": "display_data"
    }
   ],
   "source": [
    "# 目的関数の出力（loss）\n",
    "\n",
    "plt.plot(results_train['loss'], label='train')\n",
    "plt.plot(results_valid['loss'], label='valid')\n",
    "plt.legend()"
   ]
  },
  {
   "cell_type": "code",
   "execution_count": 31,
   "id": "8dacd4cc-4e0c-48c6-ad9d-78ee51cb0683",
   "metadata": {},
   "outputs": [
    {
     "data": {
      "text/plain": [
       "<matplotlib.legend.Legend at 0x7fe97aaa8340>"
      ]
     },
     "execution_count": 31,
     "metadata": {},
     "output_type": "execute_result"
    },
    {
     "data": {
      "image/png": "[encoded data removed]",
      "text/plain": [
       "<Figure size 432x288 with 1 Axes>"
      ]
     },
     "metadata": {
      "needs_background": "light"
     },
     "output_type": "display_data"
    }
   ],
   "source": [
    "# 分類制度（acuuracy)\n",
    "plt.plot(results_train['accuracy'], label='train')\n",
    "plt.plot(results_valid['accuracy'], label='valid')\n",
    "plt.legend()"
   ]
  },
  {
   "cell_type": "code",
   "execution_count": 33,
   "id": "94ef169c-1e77-4b9a-96e1-f6b27212b549",
   "metadata": {},
   "outputs": [],
   "source": [
    "# テストデータで予測値を計算\n",
    "with chainer.using_config(\"train\", False), chainer.using_config('enable_backprop', False):\n",
    "    y_test = net(x_test)"
   ]
  },
  {
   "cell_type": "code",
   "execution_count": 35,
   "id": "e2b6aaf3-0d75-48ab-b2bc-5c8cff91284a",
   "metadata": {},
   "outputs": [
    {
     "data": {
      "text/plain": [
       "array(0.95555556, dtype=float32)"
      ]
     },
     "execution_count": 35,
     "metadata": {},
     "output_type": "execute_result"
    }
   ],
   "source": [
    "accuracy_test = F.accuracy(y_test, t_test)\n",
    "accuracy_test.array"
   ]
  },
  {
   "cell_type": "code",
   "execution_count": 37,
   "id": "29a9c107-aa63-4dce-b01e-7498258885e1",
   "metadata": {},
   "outputs": [],
   "source": [
    "# ニューラルネットワークの保存\n",
    "chainer.serializers.save_npz('my_iris.net', net)"
   ]
  },
  {
   "cell_type": "code",
   "execution_count": 39,
   "id": "37980392-9435-4356-88bb-867bfb64ea30",
   "metadata": {},
   "outputs": [],
   "source": [
    "#　訓練済みニューラルネットワークを用いた推論\n",
    "loaded_net = Sequential(\n",
    "    L.Linear(n_input, n_hidden), F.relu,\n",
    "    L.Linear(n_hidden, n_hidden), F.relu,\n",
    "    L.Linear(n_hidden, n_output)\n",
    ")"
   ]
  },
  {
   "cell_type": "code",
   "execution_count": 40,
   "id": "ec801f7f-22b7-4ae9-9286-e93ece62b828",
   "metadata": {},
   "outputs": [],
   "source": [
    "chainer.serializers.load_npz('my_iris.net', loaded_net)"
   ]
  },
  {
   "cell_type": "code",
   "execution_count": 41,
   "id": "bcc80c7e-50f7-4d2a-a149-fe87f208f1b5",
   "metadata": {},
   "outputs": [],
   "source": [
    "with chainer.using_config(\"train\", False), chainer.using_config(\"enable_backprop\", False):\n",
    "    y_test = loaded_net(x_test)"
   ]
  },
  {
   "cell_type": "code",
   "execution_count": 42,
   "id": "067c74f8-5906-4905-854f-c29dddf4a1e1",
   "metadata": {},
   "outputs": [
    {
     "data": {
      "text/plain": [
       "array(0.95555556, dtype=float32)"
      ]
     },
     "execution_count": 42,
     "metadata": {},
     "output_type": "execute_result"
    }
   ],
   "source": [
    "accuracy_test = F.accuracy(y_test, t_test)\n",
    "accuracy_test.array"
   ]
  },
  {
   "cell_type": "code",
   "execution_count": null,
   "id": "eadaa6c5-010f-45fe-aa4b-f4e7a5628933",
   "metadata": {},
   "outputs": [],
   "source": []
  }
 ],
 "metadata": {
  "kernelspec": {
   "display_name": "Python 3 (ipykernel)",
   "language": "python",
   "name": "python3"
  },
  "language_info": {
   "codemirror_mode": {
    "name": "ipython",
    "version": 3
   },
   "file_extension": ".py",
   "mimetype": "text/x-python",
   "name": "python",
   "nbconvert_exporter": "python",
   "pygments_lexer": "ipython3",
   "version": "3.9.7"
  }
 },
 "nbformat": 4,
 "nbformat_minor": 5
}
