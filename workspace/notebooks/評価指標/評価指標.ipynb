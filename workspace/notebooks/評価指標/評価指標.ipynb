{
 "cells": [
  {
   "cell_type": "markdown",
   "metadata": {},
   "source": [
    "# 評価指標まとめ"
   ]
  },
  {
   "cell_type": "markdown",
   "metadata": {},
   "source": [
    "- RMSE：二乗平均平方根誤差\n",
    "\t- 使い所\n",
    "\t\t- 外れ値をより重要視（二乗するので、外れ値により引きずられる）\n",
    "\t\t- 回帰モデルは基本RMSE\n",
    "- MAE：平均絶対値誤差\n",
    "\t- 使い所\n",
    "\t\t- 絶対値なので、外れ値の影響を受けにくい\n",
    "\t\t- サンプルの誤差を平等に評価して、サンプル全体の誤差を小さくしたい時に使用\n",
    "- MSE：平均二乗誤差（RMSEのルートなし）\n",
    "\t- 使い所\n",
    "- AIC：モデルの当てはまりの良さ\n",
    "\t- RMSE等のデータは、学習データに対する当てはまりの良さに対し、\n",
    "\t- AICは予測精度の良さ（どれだけ未知データに適応できるか）\n",
    "\n",
    "　※　注意として、モデルが複雑になるほど評価指標が小さくなりやすい<br>\n",
    "　※　複数のモデルを評価する時は、使用するデータを揃える必要がある<br>\n",
    "　※　値のスケールに応じて、解釈を変える必要がある（例：像の重さRMSEが0.1とアリの重さRMSEが0.1では異なる）<br>"
   ]
  },
  {
   "cell_type": "code",
   "execution_count": null,
   "metadata": {},
   "outputs": [],
   "source": []
  }
 ],
 "metadata": {
  "kernelspec": {
   "display_name": "Python 3",
   "language": "python",
   "name": "python3"
  },
  "language_info": {
   "codemirror_mode": {
    "name": "ipython",
    "version": 3
   },
   "file_extension": ".py",
   "mimetype": "text/x-python",
   "name": "python",
   "nbconvert_exporter": "python",
   "pygments_lexer": "ipython3",
   "version": "3.7.4"
  }
 },
 "nbformat": 4,
 "nbformat_minor": 4
}
