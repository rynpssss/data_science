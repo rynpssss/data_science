{
 "cells": [
  {
   "cell_type": "code",
   "execution_count": 16,
   "id": "275075ee-0052-4b17-b328-0ad906b13a2e",
   "metadata": {},
   "outputs": [],
   "source": [
    "import numpy as np\n",
    "import pandas as pd\n",
    "import matplotlib.pyplot as plt\n",
    "\n",
    "from sklearn.model_selection import train_test_split\n",
    "from sklearn.linear_model import LogisticRegression\n",
    "from sklearn.preprocessing import LabelEncoder\n",
    "from sklearn.preprocessing import StandardScaler\n",
    "from sklearn.svm import LinearSVC\n",
    "from sklearn.model_selection import train_test_split\n",
    "from sklearn.model_selection import KFold\n",
    "\n",
    "import statsmodels.formula.api as smf\n",
    "import statsmodels.api as sm"
   ]
  },
  {
   "cell_type": "markdown",
   "id": "4a3848a1-113b-4015-aa15-ed246a978a5a",
   "metadata": {},
   "source": [
    "# read"
   ]
  },
  {
   "cell_type": "code",
   "execution_count": 2,
   "id": "84dd2690-6d05-4c5e-a7d6-8b40e130b981",
   "metadata": {},
   "outputs": [],
   "source": [
    "TRAIN_PATH = \"/workspace/data/titanic/train.csv\"\n",
    "TEST_PATH = \"/workspace/data/titanic/test.csv\"\n",
    "\n",
    "train_df = pd.read_csv(TRAIN_PATH)\n",
    "test_df = pd.read_csv(TEST_PATH)"
   ]
  },
  {
   "cell_type": "markdown",
   "id": "6d4c819a-fdc7-488c-a7e3-a29529097193",
   "metadata": {
    "tags": []
   },
   "source": [
    "# EDA後の変更"
   ]
  },
  {
   "cell_type": "markdown",
   "id": "6dc73975-6dca-43a1-b41a-45276d0190ed",
   "metadata": {},
   "source": [
    "## 以下のカラムはモデリングに使わない"
   ]
  },
  {
   "cell_type": "code",
   "execution_count": 3,
   "id": "edf96585-7b5d-4b8e-a1b6-678c72ba5de3",
   "metadata": {},
   "outputs": [],
   "source": [
    "drop_columns = ['Name', 'Ticket', 'Cabin', 'Embarked']\n",
    "\n",
    "train_df = train_df.drop(drop_columns, axis=1)\n",
    "test_df = test_df.drop(drop_columns, axis=1)"
   ]
  },
  {
   "cell_type": "markdown",
   "id": "c713c697-9915-4033-9d3d-2906b4d4b06b",
   "metadata": {},
   "source": [
    "## カテゴリ変数を数値変数に変更"
   ]
  },
  {
   "cell_type": "code",
   "execution_count": 4,
   "id": "901b5092-4078-413b-a0c2-600610feb2ff",
   "metadata": {},
   "outputs": [],
   "source": [
    "# カテゴリデータ一のリスト\n",
    "type_df = pd.DataFrame(train_df.dtypes.reset_index())\n",
    "type_df = type_df.rename(columns={0:\"type\"})\n",
    "type_df['type'] = type_df['type'].apply(lambda x: str(x))\n",
    "str_columns = list(type_df.query(\"type in 'object'\")[\"index\"].unique())\n",
    "\n",
    "# label encoder\n",
    "for c in str_columns:\n",
    "    le = LabelEncoder()\n",
    "    le.fit(train_df[c])\n",
    "    train_df[c] = le.transform(train_df[c])\n",
    "    test_df[c] = le.transform(test_df[c])"
   ]
  },
  {
   "cell_type": "markdown",
   "id": "94c10f8f-7cf9-4884-9c64-9ade0a7d42f1",
   "metadata": {
    "tags": []
   },
   "source": [
    "## AgeのNULL埋めを「Pclass × Sex」による平均年齢"
   ]
  },
  {
   "cell_type": "code",
   "execution_count": 5,
   "id": "0a984eaa-3d5d-449d-bbd9-e435f8378de7",
   "metadata": {},
   "outputs": [],
   "source": [
    "train_list = []\n",
    "test_list = []\n",
    "for i, pclass in enumerate(sorted(train_df['Pclass'].unique())):\n",
    "    for n, sex in enumerate(sorted(train_df['Sex'].unique())):\n",
    "        \n",
    "        _df = train_df.query(\"(Pclass == @pclass) & (Sex == @sex)\").copy()\n",
    "        _df = _df.fillna({\"Age\":_df['Age'].mean()})\n",
    "        train_list.append(_df)\n",
    "        \n",
    "        _df = test_df.query(\"(Pclass == @pclass) & (Sex == @sex)\").copy()\n",
    "        _df = _df.fillna({\"Age\":_df['Age'].mean()})\n",
    "        test_list.append(_df)\n",
    "        \n",
    "train_df = pd.concat(train_list)\n",
    "test_df = pd.concat(test_list)\n",
    "\n",
    "train_df = train_df.sort_values(\"PassengerId\")\n",
    "test_df = test_df.sort_values(\"PassengerId\")"
   ]
  },
  {
   "cell_type": "markdown",
   "id": "51761314-c47e-4428-b8fe-c406afbb3cba",
   "metadata": {},
   "source": [
    "## 標準化\n",
    "※ 正則化にL2ノルムを使用するため"
   ]
  },
  {
   "cell_type": "code",
   "execution_count": 6,
   "id": "460ff35a-d9c7-4813-ba71-7c41c89fea4c",
   "metadata": {},
   "outputs": [],
   "source": [
    "num_cols = list(train_df.drop([\"PassengerId\", \"Survived\"], axis=1).columns)\n",
    "\n",
    "scaler = StandardScaler()\n",
    "scaler.fit(train_df[num_cols])\n",
    "\n",
    "train_df[num_cols] = scaler.transform(train_df[num_cols])\n",
    "test_df[num_cols] = scaler.transform(test_df[num_cols])"
   ]
  },
  {
   "cell_type": "markdown",
   "id": "9313d37f-6e6a-466d-813c-206791597f68",
   "metadata": {},
   "source": [
    "## testデータのNULL平均埋め"
   ]
  },
  {
   "cell_type": "code",
   "execution_count": 31,
   "id": "b2e32f75-1bf0-44e6-b0ff-3e10a5bf5e38",
   "metadata": {},
   "outputs": [],
   "source": [
    "test_df = test_df.fillna(test_df.mean())"
   ]
  },
  {
   "cell_type": "markdown",
   "id": "099824e1-da28-4289-b986-516437ab1342",
   "metadata": {
    "tags": []
   },
   "source": [
    "# 学習"
   ]
  },
  {
   "cell_type": "code",
   "execution_count": 32,
   "id": "28ad17bd-5cd9-48e7-bc96-542d338c291b",
   "metadata": {},
   "outputs": [],
   "source": [
    "train_x = train_df.drop([\"PassengerId\", \"Survived\"], axis=1)\n",
    "train_y = train_df[[\"Survived\"]]\n",
    "test_x = test_df.drop(\"PassengerId\", axis=1)\n",
    "\n",
    "kf = KFold(n_splits=4, shuffle=True, random_state=71)\n",
    "tr_idx, va_idx = list(kf.split(train_x))[0]\n",
    "tr_x, va_x = train_x.iloc[tr_idx], train_x.iloc[va_idx]\n",
    "tr_y, va_y = train_y.iloc[tr_idx], train_y.iloc[va_idx]"
   ]
  },
  {
   "cell_type": "code",
   "execution_count": 33,
   "id": "425f0ec5-6f0d-4637-8b3c-2bdbe32a70ce",
   "metadata": {},
   "outputs": [
    {
     "name": "stdout",
     "output_type": "stream",
     "text": [
      "0.8023952095808383\n"
     ]
    },
    {
     "name": "stderr",
     "output_type": "stream",
     "text": [
      "/usr/local/lib/python3.9/site-packages/sklearn/utils/validation.py:993: DataConversionWarning: A column-vector y was passed when a 1d array was expected. Please change the shape of y to (n_samples, ), for example using ravel().\n",
      "  y = column_or_1d(y, warn=True)\n"
     ]
    }
   ],
   "source": [
    "columns = [\"Pclass\", \"Sex\", \"Age\", \"SibSp\", \"Parch\", \"Fare\"]\n",
    "svm = LinearSVC(C=0.1)\n",
    "svm.fit(tr_x, tr_y)\n",
    "print(svm.score(tr_x, tr_y))"
   ]
  },
  {
   "cell_type": "code",
   "execution_count": 43,
   "id": "a1544e2c-112d-47b4-9d2b-6e967619805a",
   "metadata": {},
   "outputs": [],
   "source": [
    "pred = pd.DataFrame({\"Survived\":svm.predict(test_x)})\n",
    "\n",
    "# Idを合わせる\n",
    "pred = pred.reset_index()\n",
    "pred = pred.rename(columns={'index':'PassengerId'})\n",
    "pred['PassengerId'] = pred['PassengerId'].apply(lambda x: x + 892)"
   ]
  },
  {
   "cell_type": "code",
   "execution_count": 44,
   "id": "f914ae60-f748-43c7-bb18-6989a44723bc",
   "metadata": {},
   "outputs": [],
   "source": [
    "path = \"/workspace/data/titanic/result_svm.csv\"\n",
    "pred.to_csv(path, index=False, encoding='utf-8-sig')"
   ]
  },
  {
   "cell_type": "code",
   "execution_count": null,
   "id": "20fd571b-82dd-4ba5-ab0b-94175aef0b84",
   "metadata": {},
   "outputs": [],
   "source": []
  },
  {
   "cell_type": "code",
   "execution_count": null,
   "id": "1ed1611d-7d77-4eac-9a6a-b70b1e97a196",
   "metadata": {},
   "outputs": [],
   "source": []
  },
  {
   "cell_type": "code",
   "execution_count": null,
   "id": "08bb2f3f-2961-4930-95cc-c101dd665efc",
   "metadata": {},
   "outputs": [],
   "source": []
  },
  {
   "cell_type": "code",
   "execution_count": null,
   "id": "c5fe9d8d-89cd-44be-a28d-0df811749527",
   "metadata": {},
   "outputs": [],
   "source": []
  }
 ],
 "metadata": {
  "kernelspec": {
   "display_name": "Python 3 (ipykernel)",
   "language": "python",
   "name": "python3"
  },
  "language_info": {
   "codemirror_mode": {
    "name": "ipython",
    "version": 3
   },
   "file_extension": ".py",
   "mimetype": "text/x-python",
   "name": "python",
   "nbconvert_exporter": "python",
   "pygments_lexer": "ipython3",
   "version": "3.9.7"
  }
 },
 "nbformat": 4,
 "nbformat_minor": 5
}
