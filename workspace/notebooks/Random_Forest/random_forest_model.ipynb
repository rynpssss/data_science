{
 "cells": [
  {
   "cell_type": "code",
   "execution_count": 1,
   "id": "9ef26c5b-e96b-4ddb-94e1-7e9ebded6ae8",
   "metadata": {},
   "outputs": [],
   "source": [
    "import numpy as np\n",
    "import pandas as pd\n",
    "import matplotlib.pyplot as plt\n",
    "from sklearn.model_selection import KFold\n",
    "from sklearn.preprocessing import LabelEncoder\n",
    "from sklearn.ensemble import RandomForestClassifier"
   ]
  },
  {
   "cell_type": "code",
   "execution_count": 2,
   "id": "511b6e1f-2277-4fec-8190-e873b404a75f",
   "metadata": {},
   "outputs": [],
   "source": [
    "TRAIN_PATH = \"/workspace/data/house_prices/train.csv\"\n",
    "TEST_PATH = \"/workspace/data/house_prices/test.csv\"\n",
    "\n",
    "train_df = pd.read_csv(TRAIN_PATH)\n",
    "test_x = pd.read_csv(TEST_PATH)"
   ]
  },
  {
   "cell_type": "code",
   "execution_count": 3,
   "id": "21be8fdb-7bd4-4185-8bf6-9d431ff956d2",
   "metadata": {},
   "outputs": [],
   "source": [
    "# 数値データは0で穴埋め / 文字データは'0'で穴埋め# # デフォルトカラムのうち、intとfloatのみ選択\n",
    "type_df = pd.DataFrame(train_df.dtypes.reset_index())\n",
    "type_df = type_df.rename(columns={0:\"type\"})\n",
    "type_df['type'] = type_df['type'].apply(lambda x: str(x))\n",
    "str_columns = list(type_df.query(\"type in 'object'\")[\"index\"].unique())\n",
    "\n",
    "train_df = train_df.fillna(0)\n",
    "test_x = test_x.fillna(0)\n",
    "\n",
    "for column in str_columns:\n",
    "    train_df[column] = train_df[column].apply(lambda x: '0' if x == 0 else x)\n",
    "    test_x[column] = test_x[column].apply(lambda x: '0' if x == 0 else x)"
   ]
  },
  {
   "cell_type": "code",
   "execution_count": 4,
   "id": "8c73180f-cca4-4a66-af15-c1f34c86ada8",
   "metadata": {},
   "outputs": [
    {
     "name": "stdout",
     "output_type": "stream",
     "text": [
      "MSZoning testにしかないデータ数: 4\n",
      "Utilities testにしかないデータ数: 2\n",
      "Exterior1st testにしかないデータ数: 1\n",
      "Exterior2nd testにしかないデータ数: 1\n",
      "KitchenQual testにしかないデータ数: 1\n",
      "Functional testにしかないデータ数: 2\n",
      "SaleType testにしかないデータ数: 1\n"
     ]
    }
   ],
   "source": [
    "# testデータにしかないデータは最頻値にて穴埋め\n",
    "for c in str_columns:\n",
    "    train_c_data = set(train_df[c].unique())\n",
    "    test_c_data = set(test_x[c].unique())\n",
    "    \n",
    "    diff = list(test_c_data - train_c_data)\n",
    "    if diff:\n",
    "        print(c, \"testにしかないデータ数:\", test_x.query(f\"{c} in @diff\").shape[0])\n",
    "        \n",
    "        train_max = train_df.groupby(f\"{c}\").size().idxmax()\n",
    "        test_x[c] = test_x[c].apply(lambda x: train_max if x in diff else x)\n",
    "        \n",
    "# label Encoder\n",
    "for c in str_columns:\n",
    "    # 学習データに基づいて定義する\n",
    "    le = LabelEncoder()\n",
    "    le.fit(train_df[c])\n",
    "    train_df[c] = le.transform(train_df[c])\n",
    "    test_x[c] = le.transform(test_x[c])"
   ]
  },
  {
   "cell_type": "code",
   "execution_count": 5,
   "id": "68c25456-8c19-4cb1-9060-e2fa4d3e29e2",
   "metadata": {},
   "outputs": [],
   "source": [
    "train_x = train_df.drop([\"Id\", \"SalePrice\"], axis=1)\n",
    "train_y = train_df[[\"SalePrice\"]]\n",
    "test_x = test_x.drop(\"Id\", axis=1)\n",
    "\n",
    "kf = KFold(n_splits=4, shuffle=True, random_state=71)\n",
    "tr_idx, va_idx = list(kf.split(train_x))[0]\n",
    "tr_x, va_x = train_x.iloc[tr_idx], train_x.iloc[va_idx]\n",
    "tr_y, va_y = train_y.iloc[tr_idx], train_y.iloc[va_idx]"
   ]
  },
  {
   "cell_type": "code",
   "execution_count": 6,
   "id": "abdef42f-e495-4c61-baa4-aad489138e77",
   "metadata": {},
   "outputs": [
    {
     "name": "stderr",
     "output_type": "stream",
     "text": [
      "/tmp/ipykernel_23/3712946203.py:2: DataConversionWarning: A column-vector y was passed when a 1d array was expected. Please change the shape of y to (n_samples,), for example using ravel().\n",
      "  clf.fit(tr_x, tr_y)\n"
     ]
    },
    {
     "data": {
      "text/plain": [
       "RandomForestClassifier(random_state=71)"
      ]
     },
     "execution_count": 6,
     "metadata": {},
     "output_type": "execute_result"
    }
   ],
   "source": [
    "clf = RandomForestClassifier(random_state=71)\n",
    "clf.fit(tr_x, tr_y)"
   ]
  },
  {
   "cell_type": "code",
   "execution_count": 7,
   "id": "99f64a85-1910-435a-861c-a0688caf7365",
   "metadata": {},
   "outputs": [
    {
     "data": {
      "text/plain": [
       "0.0273972602739726"
      ]
     },
     "execution_count": 7,
     "metadata": {},
     "output_type": "execute_result"
    }
   ],
   "source": [
    "clf.score(va_x, va_y)"
   ]
  },
  {
   "cell_type": "code",
   "execution_count": 8,
   "id": "908cfc62-cf1c-4551-b0af-9a427a23a98f",
   "metadata": {},
   "outputs": [],
   "source": [
    "pred = pd.DataFrame({\"SalePrice\":clf.predict(test_x)})\n",
    "# Idを合わせる\n",
    "pred = pred.reset_index()\n",
    "pred = pred.rename(columns={'index':'Id'})\n",
    "pred['Id'] = pred['Id'].apply(lambda x: x + 1461)"
   ]
  },
  {
   "cell_type": "code",
   "execution_count": 9,
   "id": "c5967ef6-a60a-4d8f-b26f-0402c80dab94",
   "metadata": {},
   "outputs": [],
   "source": [
    "path = \"/workspace/data/house_prices/result_RandomForest.csv\"\n",
    "pred.to_csv(path, index=False, encoding='utf-8-sig')"
   ]
  },
  {
   "cell_type": "code",
   "execution_count": null,
   "id": "0b00de27-51a8-4e6f-a5d3-a01c3c962f79",
   "metadata": {},
   "outputs": [],
   "source": []
  }
 ],
 "metadata": {
  "kernelspec": {
   "display_name": "Python 3 (ipykernel)",
   "language": "python",
   "name": "python3"
  },
  "language_info": {
   "codemirror_mode": {
    "name": "ipython",
    "version": 3
   },
   "file_extension": ".py",
   "mimetype": "text/x-python",
   "name": "python",
   "nbconvert_exporter": "python",
   "pygments_lexer": "ipython3",
   "version": "3.9.7"
  }
 },
 "nbformat": 4,
 "nbformat_minor": 5
}
