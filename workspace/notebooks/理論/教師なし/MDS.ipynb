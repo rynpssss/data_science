{
 "cells": [
  {
   "cell_type": "code",
   "execution_count": null,
   "metadata": {},
   "outputs": [],
   "source": []
  },
  {
   "cell_type": "markdown",
   "metadata": {},
   "source": [
    "### MDS"
   ]
  },
  {
   "cell_type": "markdown",
   "metadata": {},
   "source": [
    "- 目的\n",
    "     - 商品の類似性の関係を視覚化し、消費者の認知構造や商品の競合関係を明らかにする\n",
    "\n",
    "- 導出\n",
    "\t- 距離を求める\n",
    "\t\t- 距離をとって、関係性をみていく　※データの特性に応じて、相応の距離を選択する必要あり\n",
    "\t- 座標値を求める\n",
    "\t- 2-3次元上で個体を配置\n",
    "\t- 信頼性を考察\n",
    "- 質的データに対しても計算可能（ストレス値（＝最小二乗法でえた値）という値を求める）\n",
    "\t- 最小二乗法を使って、多次元空間での距離を計算し、座標値を求める\n",
    "- 違い\n",
    "\t- クラスター分析との違い\n",
    "\t\t- クラスター分析は、クラスター構造を用いて、分析するのデンドログラムで可視化\n",
    "\t\t- MDSは、ポジショニングマップで可視化\n",
    "\t- 主成分分析や因子分析との違い\n",
    "\t\t- 主成分分析は、データの情報を出来るだけ失わずに次元数を落とす\n",
    "\t\t- MDSは、データ間の距離から類似性をみる\n",
    "\t\t- 因子分析は、データの背後の関係性を明らかにする\n",
    "\t\t- ※　結果としては主成分分析と同じになる　http://www.st.nanzan-u.ac.jp/info/gr-thesis/ms/2007/04mm021.pdf\n",
    "    - 導出方法による違い\n",
    "        - 理論的比較 一番の違いはデータから行列を作る際に主成分分析法 では分散共分散行列を作り、固有値と固有ベクトルを求 めるのに対し、計量的多次元尺度構成法では非類似度を 表すデータ（もし、間隔尺度で表されたのならば比例尺 度に変換する）から   の定理を用いて、 非類似度データが距離データであることを示す。そして、 距離データであることを利用して内積行列を生成し、こ の内積行列が非負定符号であり、ランクであれば、ｒ 次元ユークリッド空間における座標行列を定めている。 つまり、行列の作り方の違いが結果の違いを生むのでは ない"
   ]
  }
 ],
 "metadata": {
  "kernelspec": {
   "display_name": "Python 3",
   "language": "python",
   "name": "python3"
  },
  "language_info": {
   "codemirror_mode": {
    "name": "ipython",
    "version": 3
   },
   "file_extension": ".py",
   "mimetype": "text/x-python",
   "name": "python",
   "nbconvert_exporter": "python",
   "pygments_lexer": "ipython3",
   "version": "3.7.4"
  }
 },
 "nbformat": 4,
 "nbformat_minor": 4
}
