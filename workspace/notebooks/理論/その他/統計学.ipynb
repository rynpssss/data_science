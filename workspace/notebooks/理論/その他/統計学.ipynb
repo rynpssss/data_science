{
 "cells": [
  {
   "cell_type": "markdown",
   "metadata": {},
   "source": [
    "## 統計学　基礎知識"
   ]
  },
  {
   "cell_type": "markdown",
   "metadata": {},
   "source": [
    "- 確率\n",
    "\t- ある事象がどのくらい確からしく起こるのかを率で表した指標\n",
    "- 正規分布\n",
    "\t- 誤差を伴う事象の分布\n",
    "\t- この世で最も一般的な分布\n",
    "\t- （ある事象のデータを調べてみると、中央の値が最も発生頻度が高く、中央中心に左右対称に頻度が少なくなる分布）\n",
    "\t- 平均と最頻値と中央値が一致する\n",
    "\t- 左右対称\n",
    "- カイ二乗分布\n",
    "\t- 複数の独立な標準正規分布に従う確率変数が集まってできた分布\n",
    "- t分布\n",
    "\t- 分散が不明な時に使用する分布\n",
    "\t- カイ二乗分布をサンプル数で割り、独立な確率変数で割った分布"
   ]
  },
  {
   "cell_type": "markdown",
   "metadata": {},
   "source": [
    "***"
   ]
  },
  {
   "cell_type": "markdown",
   "metadata": {},
   "source": [
    "# 平均が強い理由"
   ]
  },
  {
   "cell_type": "markdown",
   "metadata": {},
   "source": [
    "- BLUE\n",
    "\t- 条件\n",
    "\t\t- 不偏性\n",
    "\t\t- 最小分散不偏推定量\n",
    "\t\t- 線形推定量\n",
    "\t\t- 一致性\n",
    "- 最小二乗推定量\n",
    "- 平均値のばらつきは1/nで小さくなる\n",
    "- 平均値の分布は正規分布に従う（中心極限定理）\n",
    "- nを大きくすると真値に一致"
   ]
  },
  {
   "cell_type": "markdown",
   "metadata": {},
   "source": [
    "***"
   ]
  },
  {
   "cell_type": "markdown",
   "metadata": {},
   "source": [
    "## 有意水準と過誤"
   ]
  },
  {
   "cell_type": "markdown",
   "metadata": {},
   "source": [
    "- 有意水準\n",
    "\t- 帰無仮説に対して、稀な事が起こったと判断する確率\n",
    "- 第一種の過誤\n",
    "\t- 帰無仮説が正しい　→　棄却される\n",
    "- 第二種の過誤\n",
    "\t- 対立仮説が正しい　→　棄却されない\n",
    "- 検出力\n",
    "\t- 対立仮説が正しい　→　棄却される"
   ]
  },
  {
   "cell_type": "code",
   "execution_count": null,
   "metadata": {},
   "outputs": [],
   "source": []
  }
 ],
 "metadata": {
  "kernelspec": {
   "display_name": "Python 3",
   "language": "python",
   "name": "python3"
  },
  "language_info": {
   "codemirror_mode": {
    "name": "ipython",
    "version": 3
   },
   "file_extension": ".py",
   "mimetype": "text/x-python",
   "name": "python",
   "nbconvert_exporter": "python",
   "pygments_lexer": "ipython3",
   "version": "3.7.4"
  }
 },
 "nbformat": 4,
 "nbformat_minor": 4
}
