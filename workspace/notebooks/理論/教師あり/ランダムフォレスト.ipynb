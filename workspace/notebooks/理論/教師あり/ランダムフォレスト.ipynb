{
 "cells": [
  {
   "cell_type": "markdown",
   "metadata": {},
   "source": [
    "# ランダムフォレスト"
   ]
  },
  {
   "cell_type": "markdown",
   "metadata": {},
   "source": [
    "- 特徴\n",
    "    - 決定木をたくさん準備して、多数決で決める\n",
    "- 課題\n",
    "    - 詳しく見た一票と、最初の分岐の一票が同じ一票として扱われる\n",
    "- 実装\n",
    "\t- バギング：ブートストラップでサンプルリングした結果に対して、並列で多数決をとる\n",
    "\t- 問題として、バギングではブートストラップでサンプリングするので、サンプル同士で相関がある\n",
    "\t- 相関があると、平均の分散が形を変え、正の相関がある項が邪魔　→　ランダムフォレストで解決！\n",
    "\t- ランダムフォレスト\n",
    "\t\t- 終端ノードではないノードに対して、識別に用いる特徴量をランダムな数の識別を行うことで、正の相関を出ないようにする\n",
    "\t\t- あとは、たくさん決定木を作成して多数決をする"
   ]
  },
  {
   "cell_type": "markdown",
   "metadata": {},
   "source": [
    "***"
   ]
  },
  {
   "cell_type": "markdown",
   "metadata": {},
   "source": [
    "## 不明点\n",
    "### 21/12/29時点\n",
    " - 概念は分かったけど、どうやって計算している？\n",
    " - 木の数ってどうやって決める？\n",
    " - 予測精度が高いモデルの特徴は？\n",
    " - バギングの他モデルって有名ある？（それか、バギングして精度を高めるためだけ？）"
   ]
  },
  {
   "cell_type": "markdown",
   "metadata": {},
   "source": [
    "***"
   ]
  },
  {
   "cell_type": "markdown",
   "metadata": {},
   "source": [
    "## 関係性\n",
    "### 21/12/29時点\n",
    " - 現時点では、わからない"
   ]
  },
  {
   "cell_type": "code",
   "execution_count": null,
   "metadata": {},
   "outputs": [],
   "source": []
  },
  {
   "cell_type": "code",
   "execution_count": null,
   "metadata": {},
   "outputs": [],
   "source": []
  }
 ],
 "metadata": {
  "kernelspec": {
   "display_name": "Python 3",
   "language": "python",
   "name": "python3"
  },
  "language_info": {
   "codemirror_mode": {
    "name": "ipython",
    "version": 3
   },
   "file_extension": ".py",
   "mimetype": "text/x-python",
   "name": "python",
   "nbconvert_exporter": "python",
   "pygments_lexer": "ipython3",
   "version": "3.7.4"
  }
 },
 "nbformat": 4,
 "nbformat_minor": 4
}
