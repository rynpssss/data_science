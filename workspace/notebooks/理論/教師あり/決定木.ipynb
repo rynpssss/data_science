{
 "cells": [
  {
   "cell_type": "markdown",
   "metadata": {},
   "source": [
    "# 決定木"
   ]
  },
  {
   "cell_type": "markdown",
   "metadata": {},
   "source": [
    "- 特徴\n",
    "    - あみだくじを準備して、1つ1つデータを見て考える\n",
    "    - 色々な質問から、条件をあみだくじ的に行って結果を判定する\n",
    "    - 長所\n",
    "        - 可読性が高い\n",
    "        - 外れ値に強い\n",
    "    - 短所\n",
    "        - 過学習を起こしやすい\n",
    "        - 線形性を考慮出来ない\n",
    "        - 質的データでも量的データでも良い\n",
    "- 課題\n",
    "    - 最初の分岐での解釈が雑\n",
    "- 実装\n",
    "\t- 基準となる特徴量の決め方\n",
    "\t\t- （分割前の不純度 - 分割後の不純度）が最大\n",
    "\t\t- →　分割後の不純度が最小となるようにする\n",
    "\t\t\t- 不純度：データがごちゃごちゃしている度合い（男と女がきれいに別れたら、不純度は低い）\n",
    "\t\t\t- ジニ不純度：ノード内のクラス数を出来るだけ少なくする\n",
    "\t\t\t- ジニ不純度とエントロピーとの違い\n",
    "\t\t\t\t- ジニ不純度の方が、クラス分類に敏感\n",
    "\t\t\t\t\t- ジニ不純度を使う時は1/2付近を敏感にみたいとき\n",
    "\t\t\t\t\t- エントロピーは1/2付近をまとめて見たい時\n",
    "\t\t- 根を深くしすぎて、過学習しないように剪定アルゴリズムを行う\n",
    "\t- CART ：根を2つに分割\n",
    "\t- C4.5：根を2つ以上に分割\n",
    "- 2種の扱い方がある\n",
    "\t- level-wise（一般的）：層が成長する\n",
    "\t- leaf-wise（LightGBM）：根が成長す"
   ]
  },
  {
   "cell_type": "markdown",
   "metadata": {},
   "source": [
    "****"
   ]
  },
  {
   "cell_type": "markdown",
   "metadata": {},
   "source": [
    "## 不明点\n",
    "### 21/12/29時点\n",
    " - 使える場面ある？\n",
    " - 計算式が理解できていない。（どこがと言うより全て。説明できない）\n",
    " - ランダムフォレストや勾配ブースティング以外にも使っていたりする？"
   ]
  },
  {
   "cell_type": "markdown",
   "metadata": {},
   "source": [
    "***"
   ]
  },
  {
   "cell_type": "markdown",
   "metadata": {},
   "source": [
    "## 関係性\n",
    "### 21/12/29時点\n",
    " - ランダムフォレストや勾配ブースティングの1決定木となる土台\n",
    "\n"
   ]
  },
  {
   "cell_type": "code",
   "execution_count": null,
   "metadata": {},
   "outputs": [],
   "source": []
  }
 ],
 "metadata": {
  "kernelspec": {
   "display_name": "Python 3 (ipykernel)",
   "language": "python",
   "name": "python3"
  },
  "language_info": {
   "codemirror_mode": {
    "name": "ipython",
    "version": 3
   },
   "file_extension": ".py",
   "mimetype": "text/x-python",
   "name": "python",
   "nbconvert_exporter": "python",
   "pygments_lexer": "ipython3",
   "version": "3.9.7"
  }
 },
 "nbformat": 4,
 "nbformat_minor": 4
}
