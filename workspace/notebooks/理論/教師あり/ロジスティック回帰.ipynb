{
 "cells": [
  {
   "cell_type": "markdown",
   "metadata": {},
   "source": [
    "# ロジスティック回帰"
   ]
  },
  {
   "cell_type": "markdown",
   "metadata": {},
   "source": [
    "- GLMの一種\n",
    "- 確率分布に二項分布・リンク関数にロジットリンク関数をおく\n",
    "- ロジスティック関数の逆関数はロジット関数\n",
    "- パラメータ推定は、最尤推定を行う\n",
    "- ロジスティック関数のオッズを確認することで、要因と応答事象のオッズ解釈が容易\n",
    "- メリット\n",
    "\t- 解釈しやすい"
   ]
  },
  {
   "cell_type": "markdown",
   "metadata": {},
   "source": [
    "***"
   ]
  },
  {
   "cell_type": "markdown",
   "metadata": {},
   "source": [
    "## 不明点\n",
    "### 21/12/29時点\n",
    " - 求め方は？\n",
    " - 二値分類の中でも使えるシチュエーションは？\n",
    " - 二値分類での立ち位置と、他モデルとの関係は？\n",
    " -　　ロジスティック回帰が当てはまるデータの特徴は？"
   ]
  },
  {
   "cell_type": "markdown",
   "metadata": {},
   "source": [
    "***"
   ]
  },
  {
   "cell_type": "markdown",
   "metadata": {},
   "source": [
    "## 関係性\n",
    "### 21/12/29時点\n",
    " - ？？？（他の二値分類との関係がわからない）"
   ]
  },
  {
   "cell_type": "code",
   "execution_count": null,
   "metadata": {},
   "outputs": [],
   "source": []
  }
 ],
 "metadata": {
  "kernelspec": {
   "display_name": "Python 3 (ipykernel)",
   "language": "python",
   "name": "python3"
  },
  "language_info": {
   "codemirror_mode": {
    "name": "ipython",
    "version": 3
   },
   "file_extension": ".py",
   "mimetype": "text/x-python",
   "name": "python",
   "nbconvert_exporter": "python",
   "pygments_lexer": "ipython3",
   "version": "3.9.7"
  }
 },
 "nbformat": 4,
 "nbformat_minor": 4
}
