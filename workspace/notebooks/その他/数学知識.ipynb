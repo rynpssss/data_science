{
 "cells": [
  {
   "cell_type": "markdown",
   "metadata": {},
   "source": [
    "# ラグランジュの未定乗数"
   ]
  },
  {
   "cell_type": "markdown",
   "metadata": {},
   "source": [
    "- g(x)=0の条件下での、f(x)のmax/minを調べる方法\n",
    "- F(x,λ) = f(x) - λg(x)\n",
    "- うまくいく理由\n",
    "    - 制約条件下とは別方向の微分を制約条件の微分で打ち消すため"
   ]
  },
  {
   "cell_type": "code",
   "execution_count": null,
   "metadata": {},
   "outputs": [],
   "source": []
  }
 ],
 "metadata": {
  "kernelspec": {
   "display_name": "Python 3",
   "language": "python",
   "name": "python3"
  },
  "language_info": {
   "codemirror_mode": {
    "name": "ipython",
    "version": 3
   },
   "file_extension": ".py",
   "mimetype": "text/x-python",
   "name": "python",
   "nbconvert_exporter": "python",
   "pygments_lexer": "ipython3",
   "version": "3.7.4"
  }
 },
 "nbformat": 4,
 "nbformat_minor": 4
}
