{
 "cells": [
  {
   "cell_type": "code",
   "execution_count": 1,
   "id": "9d3e938f-b779-43a4-bc5d-b57a4e0df083",
   "metadata": {},
   "outputs": [
    {
     "name": "stderr",
     "output_type": "stream",
     "text": [
      "/usr/local/lib/python3.9/site-packages/statsmodels/compat/pandas.py:65: FutureWarning: pandas.Int64Index is deprecated and will be removed from pandas in a future version. Use pandas.Index with the appropriate dtype instead.\n",
      "  from pandas import Int64Index as NumericIndex\n"
     ]
    }
   ],
   "source": [
    "import numpy as np\n",
    "import pandas as pd\n",
    "import matplotlib.pyplot as plt\n",
    "\n",
    "from sklearn.model_selection import train_test_split\n",
    "from sklearn.linear_model import LogisticRegression\n",
    "from sklearn.preprocessing import LabelEncoder\n",
    "from sklearn.preprocessing import StandardScaler\n",
    "\n",
    "import statsmodels.formula.api as smf\n",
    "import statsmodels.api as sm"
   ]
  },
  {
   "cell_type": "markdown",
   "id": "ab5a804f-3273-4f45-a00d-cea6b6318a6b",
   "metadata": {},
   "source": [
    "# read"
   ]
  },
  {
   "cell_type": "code",
   "execution_count": 2,
   "id": "07fdede3-014b-453b-8d3d-e510473c3925",
   "metadata": {},
   "outputs": [],
   "source": [
    "TRAIN_PATH = \"/workspace/data/titanic/train.csv\"\n",
    "TEST_PATH = \"/workspace/data/titanic/test.csv\"\n",
    "\n",
    "train_df = pd.read_csv(TRAIN_PATH)\n",
    "test_df = pd.read_csv(TEST_PATH)"
   ]
  },
  {
   "cell_type": "markdown",
   "id": "f10289cc-026a-49e5-9b5b-f49f5a0e5d9f",
   "metadata": {
    "tags": []
   },
   "source": [
    "# EDA後の変更"
   ]
  },
  {
   "cell_type": "markdown",
   "id": "bca49fb2-0368-4ad9-ae4a-460db2b75776",
   "metadata": {},
   "source": [
    "## 以下のカラムはモデリングに使わない"
   ]
  },
  {
   "cell_type": "code",
   "execution_count": 3,
   "id": "2356d279-bb8e-463b-bd55-5cd1429d8527",
   "metadata": {},
   "outputs": [],
   "source": [
    "drop_columns = ['Name', 'Ticket', 'Cabin', 'Embarked']\n",
    "\n",
    "train_df = train_df.drop(drop_columns, axis=1)\n",
    "test_df = test_df.drop(drop_columns, axis=1)"
   ]
  },
  {
   "cell_type": "markdown",
   "id": "920d92e3-6069-4721-880d-18bc6bf07fbf",
   "metadata": {},
   "source": [
    "## カテゴリ変数を数値変数に変更"
   ]
  },
  {
   "cell_type": "code",
   "execution_count": 4,
   "id": "ca2f6052-5cbf-402f-bd5c-81d947797bfa",
   "metadata": {},
   "outputs": [],
   "source": [
    "# カテゴリデータ一のリスト\n",
    "type_df = pd.DataFrame(train_df.dtypes.reset_index())\n",
    "type_df = type_df.rename(columns={0:\"type\"})\n",
    "type_df['type'] = type_df['type'].apply(lambda x: str(x))\n",
    "str_columns = list(type_df.query(\"type in 'object'\")[\"index\"].unique())\n",
    "\n",
    "# label encoder\n",
    "for c in str_columns:\n",
    "    le = LabelEncoder()\n",
    "    le.fit(train_df[c])\n",
    "    train_df[c] = le.transform(train_df[c])\n",
    "    test_df[c] = le.transform(test_df[c])"
   ]
  },
  {
   "cell_type": "markdown",
   "id": "4503d3cc-b596-419e-8448-7b35b618bea2",
   "metadata": {
    "tags": []
   },
   "source": [
    "## AgeのNULL埋めを「Pclass × Sex」による平均年齢"
   ]
  },
  {
   "cell_type": "code",
   "execution_count": 5,
   "id": "5a3ce2f9-c7b6-4443-8198-294273e61ec3",
   "metadata": {},
   "outputs": [],
   "source": [
    "train_list = []\n",
    "test_list = []\n",
    "for i, pclass in enumerate(sorted(train_df['Pclass'].unique())):\n",
    "    for n, sex in enumerate(sorted(train_df['Sex'].unique())):\n",
    "        \n",
    "        _df = train_df.query(\"(Pclass == @pclass) & (Sex == @sex)\").copy()\n",
    "        _df = _df.fillna({\"Age\":_df['Age'].mean()})\n",
    "        train_list.append(_df)\n",
    "        \n",
    "        _df = test_df.query(\"(Pclass == @pclass) & (Sex == @sex)\").copy()\n",
    "        _df = _df.fillna({\"Age\":_df['Age'].mean()})\n",
    "        test_list.append(_df)\n",
    "        \n",
    "train_df = pd.concat(train_list)\n",
    "test_df = pd.concat(test_list)\n",
    "\n",
    "train_df = train_df.sort_values(\"PassengerId\")\n",
    "test_df = test_df.sort_values(\"PassengerId\")"
   ]
  },
  {
   "cell_type": "markdown",
   "id": "00eb7125-b7c0-41f7-a54c-6f9fffa9bec8",
   "metadata": {},
   "source": [
    "## 標準化\n",
    "※ 正則化にL2ノルムを使用するため"
   ]
  },
  {
   "cell_type": "code",
   "execution_count": 6,
   "id": "013a54aa-6753-4f9c-a5f4-d47c955c4642",
   "metadata": {},
   "outputs": [],
   "source": [
    "num_cols = list(train_df.drop([\"PassengerId\", \"Survived\"], axis=1).columns)\n",
    "\n",
    "scaler = StandardScaler()\n",
    "scaler.fit(train_df[num_cols])\n",
    "\n",
    "train_df[num_cols] = scaler.transform(train_df[num_cols])\n",
    "test_df[num_cols] = scaler.transform(test_df[num_cols])"
   ]
  },
  {
   "cell_type": "markdown",
   "id": "9a55ba61-2e51-4855-9f30-a61b78239955",
   "metadata": {
    "tags": []
   },
   "source": [
    "# ロジスティック回帰"
   ]
  },
  {
   "cell_type": "markdown",
   "id": "0797f76e-79dd-41dc-99c1-69810e44b3c7",
   "metadata": {},
   "source": [
    "線形予測子の変更によるAICの確認"
   ]
  },
  {
   "cell_type": "code",
   "execution_count": 7,
   "id": "4b944906-f3e2-4f88-b882-bc1b2eb8f86d",
   "metadata": {},
   "outputs": [
    {
     "name": "stdout",
     "output_type": "stream",
     "text": [
      " AIC:809.31 formula:Survived ~ Pclass + Sex + Age\n",
      " AIC:811.3 formula:Survived ~ Pclass + Sex + Age + Fare\n",
      " AIC:796.62 formula:Survived ~ Pclass + Sex + Age + SibSp + Parch\n",
      " AIC:797.39 formula:Survived ~ Pclass + Sex + Age + SibSp + Parch + Fare\n",
      "==================================================\n",
      "min\n",
      " AIC:796.62 formula:Survived ~ Pclass + Sex + Age + SibSp + Parch\n"
     ]
    }
   ],
   "source": [
    "formula_list = [\n",
    "    \"Survived ~ Pclass + Sex + Age\",\n",
    "    \"Survived ~ Pclass + Sex + Age + Fare\",\n",
    "    \"Survived ~ Pclass + Sex + Age + SibSp + Parch\",\n",
    "    \"Survived ~ Pclass + Sex + Age + SibSp + Parch + Fare\"]\n",
    "\n",
    "for i, formula in enumerate(formula_list):\n",
    "    logistic = smf.glm(formula=formula, data=train_df, family=sm.families.Binomial()).fit()\n",
    "    aic = round(logistic.aic, 2)\n",
    "    print(f\" AIC:{aic} formula:{formula}\")\n",
    "    \n",
    "    if i == 0:\n",
    "        min_aic = aic\n",
    "        min_formula = formula\n",
    "    else:\n",
    "        if aic < min_aic:\n",
    "            min_aic = aic\n",
    "            min_formula = formula\n",
    "            \n",
    "print(\"=\"*50)\n",
    "print(\"min\")\n",
    "print(f\" AIC:{min_aic} formula:{min_formula}\")"
   ]
  },
  {
   "cell_type": "code",
   "execution_count": 9,
   "id": "ef7648d6-2cee-47bf-a461-374a9802ad86",
   "metadata": {},
   "outputs": [
    {
     "data": {
      "text/html": [
       "<div>\n",
       "<style scoped>\n",
       "    .dataframe tbody tr th:only-of-type {\n",
       "        vertical-align: middle;\n",
       "    }\n",
       "\n",
       "    .dataframe tbody tr th {\n",
       "        vertical-align: top;\n",
       "    }\n",
       "\n",
       "    .dataframe thead th {\n",
       "        text-align: right;\n",
       "    }\n",
       "</style>\n",
       "<table border=\"1\" class=\"dataframe\">\n",
       "  <thead>\n",
       "    <tr style=\"text-align: right;\">\n",
       "      <th></th>\n",
       "      <th>PassengerId</th>\n",
       "      <th>Survived</th>\n",
       "      <th>Pclass</th>\n",
       "      <th>Sex</th>\n",
       "      <th>Age</th>\n",
       "      <th>SibSp</th>\n",
       "      <th>Parch</th>\n",
       "      <th>Fare</th>\n",
       "    </tr>\n",
       "  </thead>\n",
       "  <tbody>\n",
       "    <tr>\n",
       "      <th>0</th>\n",
       "      <td>1</td>\n",
       "      <td>0</td>\n",
       "      <td>0.827377</td>\n",
       "      <td>0.737695</td>\n",
       "      <td>-0.551366</td>\n",
       "      <td>0.432793</td>\n",
       "      <td>-0.473674</td>\n",
       "      <td>-0.502445</td>\n",
       "    </tr>\n",
       "    <tr>\n",
       "      <th>1</th>\n",
       "      <td>2</td>\n",
       "      <td>1</td>\n",
       "      <td>-1.566107</td>\n",
       "      <td>-1.355574</td>\n",
       "      <td>0.654030</td>\n",
       "      <td>0.432793</td>\n",
       "      <td>-0.473674</td>\n",
       "      <td>0.786845</td>\n",
       "    </tr>\n",
       "    <tr>\n",
       "      <th>2</th>\n",
       "      <td>3</td>\n",
       "      <td>1</td>\n",
       "      <td>0.827377</td>\n",
       "      <td>-1.355574</td>\n",
       "      <td>-0.250017</td>\n",
       "      <td>-0.474545</td>\n",
       "      <td>-0.473674</td>\n",
       "      <td>-0.488854</td>\n",
       "    </tr>\n",
       "    <tr>\n",
       "      <th>3</th>\n",
       "      <td>4</td>\n",
       "      <td>1</td>\n",
       "      <td>-1.566107</td>\n",
       "      <td>-1.355574</td>\n",
       "      <td>0.428018</td>\n",
       "      <td>0.432793</td>\n",
       "      <td>-0.473674</td>\n",
       "      <td>0.420730</td>\n",
       "    </tr>\n",
       "    <tr>\n",
       "      <th>4</th>\n",
       "      <td>5</td>\n",
       "      <td>0</td>\n",
       "      <td>0.827377</td>\n",
       "      <td>0.737695</td>\n",
       "      <td>0.428018</td>\n",
       "      <td>-0.474545</td>\n",
       "      <td>-0.473674</td>\n",
       "      <td>-0.486337</td>\n",
       "    </tr>\n",
       "  </tbody>\n",
       "</table>\n",
       "</div>"
      ],
      "text/plain": [
       "   PassengerId  Survived    Pclass       Sex       Age     SibSp     Parch  \\\n",
       "0            1         0  0.827377  0.737695 -0.551366  0.432793 -0.473674   \n",
       "1            2         1 -1.566107 -1.355574  0.654030  0.432793 -0.473674   \n",
       "2            3         1  0.827377 -1.355574 -0.250017 -0.474545 -0.473674   \n",
       "3            4         1 -1.566107 -1.355574  0.428018  0.432793 -0.473674   \n",
       "4            5         0  0.827377  0.737695  0.428018 -0.474545 -0.473674   \n",
       "\n",
       "       Fare  \n",
       "0 -0.502445  \n",
       "1  0.786845  \n",
       "2 -0.488854  \n",
       "3  0.420730  \n",
       "4 -0.486337  "
      ]
     },
     "execution_count": 9,
     "metadata": {},
     "output_type": "execute_result"
    }
   ],
   "source": [
    "train_df.head()"
   ]
  },
  {
   "cell_type": "code",
   "execution_count": null,
   "id": "a11ae34b-428b-4341-a250-3f4cf6dd7b5e",
   "metadata": {},
   "outputs": [],
   "source": []
  },
  {
   "cell_type": "code",
   "execution_count": null,
   "id": "a519dba4-ce43-4274-8a7e-719f10441961",
   "metadata": {},
   "outputs": [],
   "source": []
  },
  {
   "cell_type": "code",
   "execution_count": null,
   "id": "1cf9769b-5dca-462a-a847-6404d12e92b2",
   "metadata": {},
   "outputs": [],
   "source": []
  },
  {
   "cell_type": "markdown",
   "id": "926a8f40-82df-4504-ab3c-9976291c632b",
   "metadata": {
    "tags": []
   },
   "source": [
    "## 学習"
   ]
  },
  {
   "cell_type": "code",
   "execution_count": 8,
   "id": "fac03065-e91c-421e-b52f-87da69c79670",
   "metadata": {},
   "outputs": [
    {
     "data": {
      "text/html": [
       "<table class=\"simpletable\">\n",
       "<caption>Generalized Linear Model Regression Results</caption>\n",
       "<tr>\n",
       "  <th>Dep. Variable:</th>       <td>Survived</td>     <th>  No. Observations:  </th>  <td>   891</td> \n",
       "</tr>\n",
       "<tr>\n",
       "  <th>Model:</th>                  <td>GLM</td>       <th>  Df Residuals:      </th>  <td>   885</td> \n",
       "</tr>\n",
       "<tr>\n",
       "  <th>Model Family:</th>        <td>Binomial</td>     <th>  Df Model:          </th>  <td>     5</td> \n",
       "</tr>\n",
       "<tr>\n",
       "  <th>Link Function:</th>         <td>Logit</td>      <th>  Scale:             </th> <td>  1.0000</td>\n",
       "</tr>\n",
       "<tr>\n",
       "  <th>Method:</th>                <td>IRLS</td>       <th>  Log-Likelihood:    </th> <td> -392.31</td>\n",
       "</tr>\n",
       "<tr>\n",
       "  <th>Date:</th>            <td>Sun, 06 Feb 2022</td> <th>  Deviance:          </th> <td>  784.62</td>\n",
       "</tr>\n",
       "<tr>\n",
       "  <th>Time:</th>                <td>10:46:06</td>     <th>  Pearson chi2:      </th>  <td>  931.</td> \n",
       "</tr>\n",
       "<tr>\n",
       "  <th>No. Iterations:</th>          <td>5</td>        <th>  Pseudo R-squ. (CS):</th>  <td>0.3631</td> \n",
       "</tr>\n",
       "<tr>\n",
       "  <th>Covariance Type:</th>     <td>nonrobust</td>    <th>                     </th>     <td> </td>   \n",
       "</tr>\n",
       "</table>\n",
       "<table class=\"simpletable\">\n",
       "<tr>\n",
       "      <td></td>         <th>coef</th>     <th>std err</th>      <th>z</th>      <th>P>|z|</th>  <th>[0.025</th>    <th>0.975]</th>  \n",
       "</tr>\n",
       "<tr>\n",
       "  <th>Intercept</th> <td>   -0.6611</td> <td>    0.091</td> <td>   -7.237</td> <td> 0.000</td> <td>   -0.840</td> <td>   -0.482</td>\n",
       "</tr>\n",
       "<tr>\n",
       "  <th>Pclass</th>    <td>   -1.0672</td> <td>    0.107</td> <td>   -9.991</td> <td> 0.000</td> <td>   -1.277</td> <td>   -0.858</td>\n",
       "</tr>\n",
       "<tr>\n",
       "  <th>Sex</th>       <td>   -1.3026</td> <td>    0.095</td> <td>  -13.707</td> <td> 0.000</td> <td>   -1.489</td> <td>   -1.116</td>\n",
       "</tr>\n",
       "<tr>\n",
       "  <th>Age</th>       <td>   -0.6037</td> <td>    0.108</td> <td>   -5.604</td> <td> 0.000</td> <td>   -0.815</td> <td>   -0.393</td>\n",
       "</tr>\n",
       "<tr>\n",
       "  <th>SibSp</th>     <td>   -0.3949</td> <td>    0.120</td> <td>   -3.279</td> <td> 0.001</td> <td>   -0.631</td> <td>   -0.159</td>\n",
       "</tr>\n",
       "<tr>\n",
       "  <th>Parch</th>     <td>   -0.0598</td> <td>    0.093</td> <td>   -0.639</td> <td> 0.523</td> <td>   -0.243</td> <td>    0.123</td>\n",
       "</tr>\n",
       "</table>"
      ],
      "text/plain": [
       "<class 'statsmodels.iolib.summary.Summary'>\n",
       "\"\"\"\n",
       "                 Generalized Linear Model Regression Results                  \n",
       "==============================================================================\n",
       "Dep. Variable:               Survived   No. Observations:                  891\n",
       "Model:                            GLM   Df Residuals:                      885\n",
       "Model Family:                Binomial   Df Model:                            5\n",
       "Link Function:                  Logit   Scale:                          1.0000\n",
       "Method:                          IRLS   Log-Likelihood:                -392.31\n",
       "Date:                Sun, 06 Feb 2022   Deviance:                       784.62\n",
       "Time:                        10:46:06   Pearson chi2:                     931.\n",
       "No. Iterations:                     5   Pseudo R-squ. (CS):             0.3631\n",
       "Covariance Type:            nonrobust                                         \n",
       "==============================================================================\n",
       "                 coef    std err          z      P>|z|      [0.025      0.975]\n",
       "------------------------------------------------------------------------------\n",
       "Intercept     -0.6611      0.091     -7.237      0.000      -0.840      -0.482\n",
       "Pclass        -1.0672      0.107     -9.991      0.000      -1.277      -0.858\n",
       "Sex           -1.3026      0.095    -13.707      0.000      -1.489      -1.116\n",
       "Age           -0.6037      0.108     -5.604      0.000      -0.815      -0.393\n",
       "SibSp         -0.3949      0.120     -3.279      0.001      -0.631      -0.159\n",
       "Parch         -0.0598      0.093     -0.639      0.523      -0.243       0.123\n",
       "==============================================================================\n",
       "\"\"\""
      ]
     },
     "execution_count": 8,
     "metadata": {},
     "output_type": "execute_result"
    }
   ],
   "source": [
    "logistic = smf.glm(formula=min_formula, data=train_df, family=sm.families.Binomial()).fit()\n",
    "logistic.summary()"
   ]
  },
  {
   "cell_type": "markdown",
   "id": "e87a13c3-36b5-4258-84d2-0e3f1cc08b1a",
   "metadata": {},
   "source": [
    "## 予測"
   ]
  },
  {
   "cell_type": "code",
   "execution_count": 8,
   "id": "3f462cb6-66e2-46e5-9ce3-e848e646094e",
   "metadata": {},
   "outputs": [
    {
     "data": {
      "text/html": [
       "<div>\n",
       "<style scoped>\n",
       "    .dataframe tbody tr th:only-of-type {\n",
       "        vertical-align: middle;\n",
       "    }\n",
       "\n",
       "    .dataframe tbody tr th {\n",
       "        vertical-align: top;\n",
       "    }\n",
       "\n",
       "    .dataframe thead th {\n",
       "        text-align: right;\n",
       "    }\n",
       "</style>\n",
       "<table border=\"1\" class=\"dataframe\">\n",
       "  <thead>\n",
       "    <tr style=\"text-align: right;\">\n",
       "      <th></th>\n",
       "      <th>PassengerId</th>\n",
       "      <th>Pclass</th>\n",
       "      <th>Sex</th>\n",
       "      <th>Age</th>\n",
       "      <th>SibSp</th>\n",
       "      <th>Parch</th>\n",
       "      <th>Fare</th>\n",
       "    </tr>\n",
       "  </thead>\n",
       "  <tbody>\n",
       "    <tr>\n",
       "      <th>0</th>\n",
       "      <td>892</td>\n",
       "      <td>3</td>\n",
       "      <td>1</td>\n",
       "      <td>34.5</td>\n",
       "      <td>0</td>\n",
       "      <td>0</td>\n",
       "      <td>7.8292</td>\n",
       "    </tr>\n",
       "    <tr>\n",
       "      <th>1</th>\n",
       "      <td>893</td>\n",
       "      <td>3</td>\n",
       "      <td>0</td>\n",
       "      <td>47.0</td>\n",
       "      <td>1</td>\n",
       "      <td>0</td>\n",
       "      <td>7.0000</td>\n",
       "    </tr>\n",
       "    <tr>\n",
       "      <th>2</th>\n",
       "      <td>894</td>\n",
       "      <td>2</td>\n",
       "      <td>1</td>\n",
       "      <td>62.0</td>\n",
       "      <td>0</td>\n",
       "      <td>0</td>\n",
       "      <td>9.6875</td>\n",
       "    </tr>\n",
       "    <tr>\n",
       "      <th>3</th>\n",
       "      <td>895</td>\n",
       "      <td>3</td>\n",
       "      <td>1</td>\n",
       "      <td>27.0</td>\n",
       "      <td>0</td>\n",
       "      <td>0</td>\n",
       "      <td>8.6625</td>\n",
       "    </tr>\n",
       "    <tr>\n",
       "      <th>4</th>\n",
       "      <td>896</td>\n",
       "      <td>3</td>\n",
       "      <td>0</td>\n",
       "      <td>22.0</td>\n",
       "      <td>1</td>\n",
       "      <td>1</td>\n",
       "      <td>12.2875</td>\n",
       "    </tr>\n",
       "  </tbody>\n",
       "</table>\n",
       "</div>"
      ],
      "text/plain": [
       "   PassengerId  Pclass  Sex   Age  SibSp  Parch     Fare\n",
       "0          892       3    1  34.5      0      0   7.8292\n",
       "1          893       3    0  47.0      1      0   7.0000\n",
       "2          894       2    1  62.0      0      0   9.6875\n",
       "3          895       3    1  27.0      0      0   8.6625\n",
       "4          896       3    0  22.0      1      1  12.2875"
      ]
     },
     "execution_count": 8,
     "metadata": {},
     "output_type": "execute_result"
    }
   ],
   "source": [
    "test_df.head()"
   ]
  },
  {
   "cell_type": "code",
   "execution_count": 12,
   "id": "0fe1664b-d02e-4924-af36-a6dbe9de3899",
   "metadata": {},
   "outputs": [],
   "source": [
    "pred = pd.DataFrame({\"Survived\":logistic.predict(test_df)})\n",
    "pred['Survived'] = pred['Survived'].apply(lambda x: round(x))\n",
    "\n",
    "# Idを合わせる\n",
    "pred = pred.reset_index()\n",
    "pred = pred.rename(columns={'index':'PassengerId'})\n",
    "pred['PassengerId'] = pred['PassengerId'].apply(lambda x: x + 892)"
   ]
  },
  {
   "cell_type": "code",
   "execution_count": 14,
   "id": "57b3aac6-0d08-4415-9705-de7b7b4cffd6",
   "metadata": {},
   "outputs": [],
   "source": [
    "path = \"/workspace/data/titanic/result_logistic.csv\"\n",
    "pred.to_csv(path, index=False, encoding='utf-8-sig')"
   ]
  },
  {
   "cell_type": "code",
   "execution_count": null,
   "id": "bdcd3425-ee6f-4ea4-8556-c1a9ed55ec94",
   "metadata": {},
   "outputs": [],
   "source": []
  },
  {
   "cell_type": "code",
   "execution_count": null,
   "id": "4c2d7e43-31b7-4696-9bcd-36c9fd055e8c",
   "metadata": {},
   "outputs": [],
   "source": []
  },
  {
   "cell_type": "code",
   "execution_count": null,
   "id": "8878d0f6-f0f5-4cf0-98cf-dce828b3a3bb",
   "metadata": {},
   "outputs": [],
   "source": []
  },
  {
   "cell_type": "code",
   "execution_count": 15,
   "id": "654e1cb5-1855-4b54-baa3-c76a4359929a",
   "metadata": {},
   "outputs": [
    {
     "data": {
      "text/html": [
       "<div>\n",
       "<style scoped>\n",
       "    .dataframe tbody tr th:only-of-type {\n",
       "        vertical-align: middle;\n",
       "    }\n",
       "\n",
       "    .dataframe tbody tr th {\n",
       "        vertical-align: top;\n",
       "    }\n",
       "\n",
       "    .dataframe thead th {\n",
       "        text-align: right;\n",
       "    }\n",
       "</style>\n",
       "<table border=\"1\" class=\"dataframe\">\n",
       "  <thead>\n",
       "    <tr style=\"text-align: right;\">\n",
       "      <th></th>\n",
       "      <th>PassengerId</th>\n",
       "      <th>Survived</th>\n",
       "      <th>Pclass</th>\n",
       "      <th>Sex</th>\n",
       "      <th>Age</th>\n",
       "      <th>SibSp</th>\n",
       "      <th>Parch</th>\n",
       "      <th>Fare</th>\n",
       "    </tr>\n",
       "  </thead>\n",
       "  <tbody>\n",
       "    <tr>\n",
       "      <th>0</th>\n",
       "      <td>1</td>\n",
       "      <td>0</td>\n",
       "      <td>3</td>\n",
       "      <td>1</td>\n",
       "      <td>22.0</td>\n",
       "      <td>1</td>\n",
       "      <td>0</td>\n",
       "      <td>7.2500</td>\n",
       "    </tr>\n",
       "    <tr>\n",
       "      <th>1</th>\n",
       "      <td>2</td>\n",
       "      <td>1</td>\n",
       "      <td>1</td>\n",
       "      <td>0</td>\n",
       "      <td>38.0</td>\n",
       "      <td>1</td>\n",
       "      <td>0</td>\n",
       "      <td>71.2833</td>\n",
       "    </tr>\n",
       "    <tr>\n",
       "      <th>2</th>\n",
       "      <td>3</td>\n",
       "      <td>1</td>\n",
       "      <td>3</td>\n",
       "      <td>0</td>\n",
       "      <td>26.0</td>\n",
       "      <td>0</td>\n",
       "      <td>0</td>\n",
       "      <td>7.9250</td>\n",
       "    </tr>\n",
       "    <tr>\n",
       "      <th>3</th>\n",
       "      <td>4</td>\n",
       "      <td>1</td>\n",
       "      <td>1</td>\n",
       "      <td>0</td>\n",
       "      <td>35.0</td>\n",
       "      <td>1</td>\n",
       "      <td>0</td>\n",
       "      <td>53.1000</td>\n",
       "    </tr>\n",
       "    <tr>\n",
       "      <th>4</th>\n",
       "      <td>5</td>\n",
       "      <td>0</td>\n",
       "      <td>3</td>\n",
       "      <td>1</td>\n",
       "      <td>35.0</td>\n",
       "      <td>0</td>\n",
       "      <td>0</td>\n",
       "      <td>8.0500</td>\n",
       "    </tr>\n",
       "  </tbody>\n",
       "</table>\n",
       "</div>"
      ],
      "text/plain": [
       "   PassengerId  Survived  Pclass  Sex   Age  SibSp  Parch     Fare\n",
       "0            1         0       3    1  22.0      1      0   7.2500\n",
       "1            2         1       1    0  38.0      1      0  71.2833\n",
       "2            3         1       3    0  26.0      0      0   7.9250\n",
       "3            4         1       1    0  35.0      1      0  53.1000\n",
       "4            5         0       3    1  35.0      0      0   8.0500"
      ]
     },
     "execution_count": 15,
     "metadata": {},
     "output_type": "execute_result"
    }
   ],
   "source": [
    "train_df.head()"
   ]
  },
  {
   "cell_type": "code",
   "execution_count": null,
   "id": "6e2c31ee-4fc1-407f-984e-95901ee29efa",
   "metadata": {},
   "outputs": [],
   "source": []
  },
  {
   "cell_type": "code",
   "execution_count": null,
   "id": "2881d47a-7641-4b3b-acbc-52863ae129ea",
   "metadata": {},
   "outputs": [],
   "source": []
  },
  {
   "cell_type": "code",
   "execution_count": null,
   "id": "92e59350-c1f3-4428-834d-ade2231f1902",
   "metadata": {},
   "outputs": [],
   "source": []
  },
  {
   "cell_type": "code",
   "execution_count": null,
   "id": "454730d8-736f-45fc-9f89-9631063740f1",
   "metadata": {},
   "outputs": [],
   "source": []
  },
  {
   "cell_type": "code",
   "execution_count": null,
   "id": "3cfa0173-9e95-499e-b6ba-854b9710175f",
   "metadata": {},
   "outputs": [],
   "source": []
  },
  {
   "cell_type": "code",
   "execution_count": 6,
   "id": "3985fb71-bd3d-4f7b-b279-4c626ab7ae7c",
   "metadata": {},
   "outputs": [
    {
     "name": "stderr",
     "output_type": "stream",
     "text": [
      "/usr/local/lib/python3.9/site-packages/sklearn/utils/validation.py:993: DataConversionWarning: A column-vector y was passed when a 1d array was expected. Please change the shape of y to (n_samples, ), for example using ravel().\n",
      "  y = column_or_1d(y, warn=True)\n"
     ]
    },
    {
     "data": {
      "text/plain": [
       "0.8069584736251403"
      ]
     },
     "execution_count": 6,
     "metadata": {},
     "output_type": "execute_result"
    }
   ],
   "source": [
    "# X = train_df.drop(\"Survived\", axis=1)\n",
    "# y = train_df[[\"Survived\"]]\n",
    "\n",
    "# clf = LogisticRegression(random_state=0).fit(X,y)\n",
    "# clf.score(X, y)"
   ]
  },
  {
   "cell_type": "code",
   "execution_count": 57,
   "id": "60f5df81-02a3-4383-857a-bcea4b7dfbc1",
   "metadata": {},
   "outputs": [
    {
     "data": {
      "text/plain": [
       "LogisticRegression(random_state=0)"
      ]
     },
     "execution_count": 58,
     "metadata": {},
     "output_type": "execute_result"
    }
   ],
   "source": [
    "clf.params()"
   ]
  },
  {
   "cell_type": "code",
   "execution_count": null,
   "id": "21752f68-bcb1-42a7-b45f-bd4a8e0b3c76",
   "metadata": {},
   "outputs": [],
   "source": []
  },
  {
   "cell_type": "code",
   "execution_count": null,
   "id": "ee5c9835-f32c-4445-a705-e38832dcab30",
   "metadata": {},
   "outputs": [],
   "source": []
  },
  {
   "cell_type": "code",
   "execution_count": null,
   "id": "5bda01e5-b5b6-4a01-9688-c003b62fe403",
   "metadata": {},
   "outputs": [],
   "source": []
  },
  {
   "cell_type": "code",
   "execution_count": null,
   "id": "a8824ab0-0637-40e9-8507-9cfccfe33ab6",
   "metadata": {},
   "outputs": [],
   "source": []
  },
  {
   "cell_type": "code",
   "execution_count": null,
   "id": "77f505a3-fc54-485e-a71a-376aa706a52d",
   "metadata": {},
   "outputs": [],
   "source": []
  },
  {
   "cell_type": "code",
   "execution_count": null,
   "id": "8fa4aa11-c68a-4dd5-bd92-6e5cb0c6657d",
   "metadata": {},
   "outputs": [],
   "source": []
  },
  {
   "cell_type": "code",
   "execution_count": null,
   "id": "1a463424-74cb-4063-82ff-d550ac3265e8",
   "metadata": {},
   "outputs": [],
   "source": []
  },
  {
   "cell_type": "code",
   "execution_count": null,
   "id": "121a103c-bb0b-49ab-8c36-7734be2d06f7",
   "metadata": {},
   "outputs": [],
   "source": []
  },
  {
   "cell_type": "code",
   "execution_count": null,
   "id": "9bb04419-dd38-4dbb-8fd0-6c7eb24b7c7e",
   "metadata": {},
   "outputs": [],
   "source": [
    "X = train_df[['petal_length']] # 説明変数\n",
    "Y = iris_df['species'].map({'versicolor': 0, 'virginica': 1}) # versicolorをクラス0, virginicaをクラス1とする\n",
    "X_train, X_test, Y_train, Y_test = train_test_split(X, Y, test_size = 0.2, random_state = 0) # 80%のデータを学習データに、20%を検証データにする\n",
    "\n",
    "lr = LogisticRegression(random_state='1') # ロジスティック回帰モデルのインスタンスを作成\n",
    "lr.fit(X_train, Y_train) # ロジスティック回帰モデルの重みを学習"
   ]
  }
 ],
 "metadata": {
  "kernelspec": {
   "display_name": "Python 3 (ipykernel)",
   "language": "python",
   "name": "python3"
  },
  "language_info": {
   "codemirror_mode": {
    "name": "ipython",
    "version": 3
   },
   "file_extension": ".py",
   "mimetype": "text/x-python",
   "name": "python",
   "nbconvert_exporter": "python",
   "pygments_lexer": "ipython3",
   "version": "3.9.7"
  }
 },
 "nbformat": 4,
 "nbformat_minor": 5
}
