{
 "cells": [
  {
   "cell_type": "code",
   "execution_count": 64,
   "id": "13d78dbd-d5e0-44a6-80ff-b14d2e08c7d1",
   "metadata": {},
   "outputs": [],
   "source": [
    "import sys\n",
    "import warnings\n",
    "import joblib\n",
    "\n",
    "import numpy as np\n",
    "import pandas as pd\n",
    "import matplotlib.pyplot as plt\n",
    "import seaborn as sns\n",
    "from sklearn.datasets import load_boston\n",
    "from sklearn.model_selection import train_test_split\n",
    "from sklearn.linear_model import LinearRegression\n",
    "from sklearn.metrics import mean_squared_error\n",
    "from sklearn.metrics import r2_score\n",
    "from sklearn.preprocessing import StandardScaler\n",
    "from sklearn.ensemble import RandomForestRegressor"
   ]
  },
  {
   "cell_type": "code",
   "execution_count": 10,
   "id": "d85fe516-2dda-48e3-85bd-80106d5de470",
   "metadata": {},
   "outputs": [],
   "source": [
    "warnings.simplefilter(\"ignore\")"
   ]
  },
  {
   "cell_type": "markdown",
   "id": "359e8f8d-e7c7-472e-b6ae-52fd590aebbb",
   "metadata": {},
   "source": [
    "# read"
   ]
  },
  {
   "cell_type": "code",
   "execution_count": 12,
   "id": "739372d6-0172-4743-9798-29429d3ac29f",
   "metadata": {},
   "outputs": [],
   "source": [
    "boston = load_boston()\n",
    "\n",
    "X = pd.DataFrame(data=boston['data'], columns=boston[\"feature_names\"])\n",
    "y = boston['target']"
   ]
  },
  {
   "cell_type": "code",
   "execution_count": 14,
   "id": "e5ad2082-7b55-4714-a906-d43fbed840f7",
   "metadata": {},
   "outputs": [
    {
     "data": {
      "text/html": [
       "<div>\n",
       "<style scoped>\n",
       "    .dataframe tbody tr th:only-of-type {\n",
       "        vertical-align: middle;\n",
       "    }\n",
       "\n",
       "    .dataframe tbody tr th {\n",
       "        vertical-align: top;\n",
       "    }\n",
       "\n",
       "    .dataframe thead th {\n",
       "        text-align: right;\n",
       "    }\n",
       "</style>\n",
       "<table border=\"1\" class=\"dataframe\">\n",
       "  <thead>\n",
       "    <tr style=\"text-align: right;\">\n",
       "      <th></th>\n",
       "      <th>CRIM</th>\n",
       "      <th>ZN</th>\n",
       "      <th>INDUS</th>\n",
       "      <th>CHAS</th>\n",
       "      <th>NOX</th>\n",
       "      <th>RM</th>\n",
       "      <th>AGE</th>\n",
       "      <th>DIS</th>\n",
       "      <th>RAD</th>\n",
       "      <th>TAX</th>\n",
       "      <th>PTRATIO</th>\n",
       "      <th>B</th>\n",
       "      <th>LSTAT</th>\n",
       "    </tr>\n",
       "  </thead>\n",
       "  <tbody>\n",
       "    <tr>\n",
       "      <th>0</th>\n",
       "      <td>0.00632</td>\n",
       "      <td>18.0</td>\n",
       "      <td>2.31</td>\n",
       "      <td>0.0</td>\n",
       "      <td>0.538</td>\n",
       "      <td>6.575</td>\n",
       "      <td>65.2</td>\n",
       "      <td>4.0900</td>\n",
       "      <td>1.0</td>\n",
       "      <td>296.0</td>\n",
       "      <td>15.3</td>\n",
       "      <td>396.90</td>\n",
       "      <td>4.98</td>\n",
       "    </tr>\n",
       "    <tr>\n",
       "      <th>1</th>\n",
       "      <td>0.02731</td>\n",
       "      <td>0.0</td>\n",
       "      <td>7.07</td>\n",
       "      <td>0.0</td>\n",
       "      <td>0.469</td>\n",
       "      <td>6.421</td>\n",
       "      <td>78.9</td>\n",
       "      <td>4.9671</td>\n",
       "      <td>2.0</td>\n",
       "      <td>242.0</td>\n",
       "      <td>17.8</td>\n",
       "      <td>396.90</td>\n",
       "      <td>9.14</td>\n",
       "    </tr>\n",
       "    <tr>\n",
       "      <th>2</th>\n",
       "      <td>0.02729</td>\n",
       "      <td>0.0</td>\n",
       "      <td>7.07</td>\n",
       "      <td>0.0</td>\n",
       "      <td>0.469</td>\n",
       "      <td>7.185</td>\n",
       "      <td>61.1</td>\n",
       "      <td>4.9671</td>\n",
       "      <td>2.0</td>\n",
       "      <td>242.0</td>\n",
       "      <td>17.8</td>\n",
       "      <td>392.83</td>\n",
       "      <td>4.03</td>\n",
       "    </tr>\n",
       "    <tr>\n",
       "      <th>3</th>\n",
       "      <td>0.03237</td>\n",
       "      <td>0.0</td>\n",
       "      <td>2.18</td>\n",
       "      <td>0.0</td>\n",
       "      <td>0.458</td>\n",
       "      <td>6.998</td>\n",
       "      <td>45.8</td>\n",
       "      <td>6.0622</td>\n",
       "      <td>3.0</td>\n",
       "      <td>222.0</td>\n",
       "      <td>18.7</td>\n",
       "      <td>394.63</td>\n",
       "      <td>2.94</td>\n",
       "    </tr>\n",
       "    <tr>\n",
       "      <th>4</th>\n",
       "      <td>0.06905</td>\n",
       "      <td>0.0</td>\n",
       "      <td>2.18</td>\n",
       "      <td>0.0</td>\n",
       "      <td>0.458</td>\n",
       "      <td>7.147</td>\n",
       "      <td>54.2</td>\n",
       "      <td>6.0622</td>\n",
       "      <td>3.0</td>\n",
       "      <td>222.0</td>\n",
       "      <td>18.7</td>\n",
       "      <td>396.90</td>\n",
       "      <td>5.33</td>\n",
       "    </tr>\n",
       "  </tbody>\n",
       "</table>\n",
       "</div>"
      ],
      "text/plain": [
       "      CRIM    ZN  INDUS  CHAS    NOX     RM   AGE     DIS  RAD    TAX  \\\n",
       "0  0.00632  18.0   2.31   0.0  0.538  6.575  65.2  4.0900  1.0  296.0   \n",
       "1  0.02731   0.0   7.07   0.0  0.469  6.421  78.9  4.9671  2.0  242.0   \n",
       "2  0.02729   0.0   7.07   0.0  0.469  7.185  61.1  4.9671  2.0  242.0   \n",
       "3  0.03237   0.0   2.18   0.0  0.458  6.998  45.8  6.0622  3.0  222.0   \n",
       "4  0.06905   0.0   2.18   0.0  0.458  7.147  54.2  6.0622  3.0  222.0   \n",
       "\n",
       "   PTRATIO       B  LSTAT  \n",
       "0     15.3  396.90   4.98  \n",
       "1     17.8  396.90   9.14  \n",
       "2     17.8  392.83   4.03  \n",
       "3     18.7  394.63   2.94  \n",
       "4     18.7  396.90   5.33  "
      ]
     },
     "execution_count": 14,
     "metadata": {},
     "output_type": "execute_result"
    }
   ],
   "source": [
    "X.head()"
   ]
  },
  {
   "cell_type": "code",
   "execution_count": 17,
   "id": "3674db74-a3e3-473f-9294-7de39185f997",
   "metadata": {},
   "outputs": [
    {
     "data": {
      "text/plain": [
       "array([24. , 21.6, 34.7, 33.4, 36.2])"
      ]
     },
     "execution_count": 17,
     "metadata": {},
     "output_type": "execute_result"
    }
   ],
   "source": [
    "y[:5]"
   ]
  },
  {
   "cell_type": "markdown",
   "id": "be0cd67b-2294-493f-9d62-bd7ffcbf884e",
   "metadata": {},
   "source": [
    "## よく使うのでpickle保存"
   ]
  },
  {
   "cell_type": "code",
   "execution_count": 19,
   "id": "e5258a50-440f-41cf-b378-ed2083b6ccde",
   "metadata": {},
   "outputs": [],
   "source": [
    "X_train, X_test, y_train, y_test = train_test_split(X, y, test_size=0.2, random_state=42)"
   ]
  },
  {
   "cell_type": "code",
   "execution_count": 22,
   "id": "f1922726-4e81-4b9e-bd24-0b7589c05d75",
   "metadata": {},
   "outputs": [
    {
     "data": {
      "text/plain": [
       "['./data/boston_husing.pkl']"
      ]
     },
     "execution_count": 22,
     "metadata": {},
     "output_type": "execute_result"
    }
   ],
   "source": [
    "joblib.dump([X_train, X_test, y_train, y_test], filename='./data/boston_husing.pkl')"
   ]
  },
  {
   "cell_type": "markdown",
   "id": "27990cf4-7ca3-4135-83c3-b7cc53cb63cf",
   "metadata": {},
   "source": [
    "# 線形回帰モデル"
   ]
  },
  {
   "cell_type": "code",
   "execution_count": 24,
   "id": "7bbd420d-8581-42a0-ba52-a0f064038a9b",
   "metadata": {},
   "outputs": [
    {
     "data": {
      "text/plain": [
       "LinearRegression()"
      ]
     },
     "execution_count": 24,
     "metadata": {},
     "output_type": "execute_result"
    }
   ],
   "source": [
    "# 学習\n",
    "lm = LinearRegression()\n",
    "lm.fit(X_train, y_train)"
   ]
  },
  {
   "cell_type": "code",
   "execution_count": 31,
   "id": "d9071c4f-5674-4b36-976d-809135e39f80",
   "metadata": {},
   "outputs": [],
   "source": [
    "def regression_metrics(model, X, y):\n",
    "    \"\"\" 回帰精度のRMSEとR2をDFとして返す\"\"\"\n",
    "    \n",
    "    # テストデータで予測\n",
    "    y_pred = model.predict(X)\n",
    "    \n",
    "    # 評価指標をDFにまとめる\n",
    "    df = pd.DataFrame(\n",
    "        data={\"RMSE\":[mean_squared_error(y, y_pred,  squared=False)],\n",
    "              \"R2\":[r2_score(y, y_pred)]})\n",
    "    return df"
   ]
  },
  {
   "cell_type": "code",
   "execution_count": 34,
   "id": "6d70d823-0f4b-4b50-8c8c-cde30bdfb7f8",
   "metadata": {},
   "outputs": [
    {
     "data": {
      "text/html": [
       "<div>\n",
       "<style scoped>\n",
       "    .dataframe tbody tr th:only-of-type {\n",
       "        vertical-align: middle;\n",
       "    }\n",
       "\n",
       "    .dataframe tbody tr th {\n",
       "        vertical-align: top;\n",
       "    }\n",
       "\n",
       "    .dataframe thead th {\n",
       "        text-align: right;\n",
       "    }\n",
       "</style>\n",
       "<table border=\"1\" class=\"dataframe\">\n",
       "  <thead>\n",
       "    <tr style=\"text-align: right;\">\n",
       "      <th></th>\n",
       "      <th>RMSE</th>\n",
       "      <th>R2</th>\n",
       "    </tr>\n",
       "  </thead>\n",
       "  <tbody>\n",
       "    <tr>\n",
       "      <th>0</th>\n",
       "      <td>4.928602</td>\n",
       "      <td>0.668759</td>\n",
       "    </tr>\n",
       "  </tbody>\n",
       "</table>\n",
       "</div>"
      ],
      "text/plain": [
       "       RMSE        R2\n",
       "0  4.928602  0.668759"
      ]
     },
     "execution_count": 34,
     "metadata": {},
     "output_type": "execute_result"
    }
   ],
   "source": [
    "regression_metrics(lm, X_test, y_test)"
   ]
  },
  {
   "cell_type": "markdown",
   "id": "68420b60-b382-4315-a2b0-ea99cbc1c2b5",
   "metadata": {},
   "source": [
    "## 重要度"
   ]
  },
  {
   "cell_type": "code",
   "execution_count": 45,
   "id": "2a986870-eb68-41fa-9348-413de7d8e614",
   "metadata": {},
   "outputs": [],
   "source": [
    "def get_coef(model, var_names):\n",
    "    \"\"\" 特徴量と回帰係数が対応したDF作成\"\"\"\n",
    "    \n",
    "    df = pd.DataFrame(\n",
    "        data={\"coef\":[model.intercept_] + model.coef_.tolist()},\n",
    "        index=['intercept'] + var_names\n",
    "    )\n",
    "    \n",
    "    return df.T"
   ]
  },
  {
   "cell_type": "code",
   "execution_count": 54,
   "id": "6a1a4323-893c-4864-af5c-c92f9e1ebb0b",
   "metadata": {},
   "outputs": [
    {
     "name": "stdout",
     "output_type": "stream",
     "text": [
      "各係数\n"
     ]
    },
    {
     "data": {
      "text/html": [
       "<div>\n",
       "<style scoped>\n",
       "    .dataframe tbody tr th:only-of-type {\n",
       "        vertical-align: middle;\n",
       "    }\n",
       "\n",
       "    .dataframe tbody tr th {\n",
       "        vertical-align: top;\n",
       "    }\n",
       "\n",
       "    .dataframe thead th {\n",
       "        text-align: right;\n",
       "    }\n",
       "</style>\n",
       "<table border=\"1\" class=\"dataframe\">\n",
       "  <thead>\n",
       "    <tr style=\"text-align: right;\">\n",
       "      <th></th>\n",
       "      <th>intercept</th>\n",
       "      <th>CRIM</th>\n",
       "      <th>ZN</th>\n",
       "      <th>INDUS</th>\n",
       "      <th>CHAS</th>\n",
       "      <th>NOX</th>\n",
       "      <th>RM</th>\n",
       "      <th>AGE</th>\n",
       "      <th>DIS</th>\n",
       "      <th>RAD</th>\n",
       "      <th>TAX</th>\n",
       "      <th>PTRATIO</th>\n",
       "      <th>B</th>\n",
       "      <th>LSTAT</th>\n",
       "    </tr>\n",
       "  </thead>\n",
       "  <tbody>\n",
       "    <tr>\n",
       "      <th>coef</th>\n",
       "      <td>30.246751</td>\n",
       "      <td>-0.113056</td>\n",
       "      <td>0.03011</td>\n",
       "      <td>0.040381</td>\n",
       "      <td>2.784438</td>\n",
       "      <td>-17.202633</td>\n",
       "      <td>4.438835</td>\n",
       "      <td>-0.006296</td>\n",
       "      <td>-1.447865</td>\n",
       "      <td>0.26243</td>\n",
       "      <td>-0.010647</td>\n",
       "      <td>-0.915456</td>\n",
       "      <td>0.012351</td>\n",
       "      <td>-0.508571</td>\n",
       "    </tr>\n",
       "  </tbody>\n",
       "</table>\n",
       "</div>"
      ],
      "text/plain": [
       "      intercept      CRIM       ZN     INDUS      CHAS        NOX        RM  \\\n",
       "coef  30.246751 -0.113056  0.03011  0.040381  2.784438 -17.202633  4.438835   \n",
       "\n",
       "           AGE       DIS      RAD       TAX   PTRATIO         B     LSTAT  \n",
       "coef -0.006296 -1.447865  0.26243 -0.010647 -0.915456  0.012351 -0.508571  "
      ]
     },
     "metadata": {},
     "output_type": "display_data"
    },
    {
     "name": "stdout",
     "output_type": "stream",
     "text": [
      "係数のmax-minの差分\n"
     ]
    },
    {
     "data": {
      "text/html": [
       "<div>\n",
       "<style scoped>\n",
       "    .dataframe tbody tr th:only-of-type {\n",
       "        vertical-align: middle;\n",
       "    }\n",
       "\n",
       "    .dataframe tbody tr th {\n",
       "        vertical-align: top;\n",
       "    }\n",
       "\n",
       "    .dataframe thead th {\n",
       "        text-align: right;\n",
       "    }\n",
       "</style>\n",
       "<table border=\"1\" class=\"dataframe\">\n",
       "  <thead>\n",
       "    <tr style=\"text-align: right;\">\n",
       "      <th></th>\n",
       "      <th>CRIM</th>\n",
       "      <th>ZN</th>\n",
       "      <th>INDUS</th>\n",
       "      <th>CHAS</th>\n",
       "      <th>NOX</th>\n",
       "      <th>RM</th>\n",
       "      <th>AGE</th>\n",
       "      <th>DIS</th>\n",
       "      <th>RAD</th>\n",
       "      <th>TAX</th>\n",
       "      <th>PTRATIO</th>\n",
       "      <th>B</th>\n",
       "      <th>LSTAT</th>\n",
       "    </tr>\n",
       "  </thead>\n",
       "  <tbody>\n",
       "    <tr>\n",
       "      <th>range</th>\n",
       "      <td>88.96714</td>\n",
       "      <td>100.0</td>\n",
       "      <td>27.0</td>\n",
       "      <td>1.0</td>\n",
       "      <td>0.486</td>\n",
       "      <td>4.917</td>\n",
       "      <td>97.1</td>\n",
       "      <td>10.9969</td>\n",
       "      <td>23.0</td>\n",
       "      <td>524.0</td>\n",
       "      <td>9.4</td>\n",
       "      <td>396.58</td>\n",
       "      <td>36.24</td>\n",
       "    </tr>\n",
       "  </tbody>\n",
       "</table>\n",
       "</div>"
      ],
      "text/plain": [
       "           CRIM     ZN  INDUS  CHAS    NOX     RM   AGE      DIS   RAD    TAX  \\\n",
       "range  88.96714  100.0   27.0   1.0  0.486  4.917  97.1  10.9969  23.0  524.0   \n",
       "\n",
       "       PTRATIO       B  LSTAT  \n",
       "range      9.4  396.58  36.24  "
      ]
     },
     "metadata": {},
     "output_type": "display_data"
    }
   ],
   "source": [
    "print(\"各係数\")\n",
    "# 絶対値で見ると NOX（酸化窒素濃度）が最も高いが、重要な説明変数ではない。\n",
    "# 理由は、説明変数ごとのスケールが異なるため、NOXが高く見えているだけ\n",
    "display(get_coef(lm, X.columns.tolist()))\n",
    "\n",
    "print(\"係数のmax-minの差分\")\n",
    "display(pd.DataFrame(data={'range':X_train.max() - X_train.min()}).T)"
   ]
  },
  {
   "cell_type": "code",
   "execution_count": 60,
   "id": "d7369f16-f8a9-4154-9ca7-945b6b2be69a",
   "metadata": {},
   "outputs": [
    {
     "data": {
      "text/html": [
       "<div>\n",
       "<style scoped>\n",
       "    .dataframe tbody tr th:only-of-type {\n",
       "        vertical-align: middle;\n",
       "    }\n",
       "\n",
       "    .dataframe tbody tr th {\n",
       "        vertical-align: top;\n",
       "    }\n",
       "\n",
       "    .dataframe thead th {\n",
       "        text-align: right;\n",
       "    }\n",
       "</style>\n",
       "<table border=\"1\" class=\"dataframe\">\n",
       "  <thead>\n",
       "    <tr style=\"text-align: right;\">\n",
       "      <th></th>\n",
       "      <th>RMSE</th>\n",
       "      <th>R2</th>\n",
       "    </tr>\n",
       "  </thead>\n",
       "  <tbody>\n",
       "    <tr>\n",
       "      <th>0</th>\n",
       "      <td>4.928602</td>\n",
       "      <td>0.668759</td>\n",
       "    </tr>\n",
       "  </tbody>\n",
       "</table>\n",
       "</div>"
      ],
      "text/plain": [
       "       RMSE        R2\n",
       "0  4.928602  0.668759"
      ]
     },
     "execution_count": 60,
     "metadata": {},
     "output_type": "execute_result"
    }
   ],
   "source": [
    "# 標準化して変数のスケールを合わせる\n",
    "\n",
    "# 訓練データから平均と分散を計算\n",
    "ss = StandardScaler()\n",
    "ss.fit(X_train)\n",
    "\n",
    "# 標準化\n",
    "X_train_ss = ss.transform(X_train)\n",
    "X_test_ss = ss.transform(X_test)\n",
    "\n",
    "# 学習\n",
    "lm_ss = LinearRegression()\n",
    "lm_ss.fit(X_train_ss, y_train)\n",
    "\n",
    "#　精度評価 ※標準化しただけなので、結果は変わらない\n",
    "regression_metrics(lm_ss, X_test_ss, y_test)"
   ]
  },
  {
   "cell_type": "code",
   "execution_count": 62,
   "id": "785fdeaf-9c0a-405f-95d9-edd773f326c9",
   "metadata": {},
   "outputs": [
    {
     "data": {
      "text/html": [
       "<div>\n",
       "<style scoped>\n",
       "    .dataframe tbody tr th:only-of-type {\n",
       "        vertical-align: middle;\n",
       "    }\n",
       "\n",
       "    .dataframe tbody tr th {\n",
       "        vertical-align: top;\n",
       "    }\n",
       "\n",
       "    .dataframe thead th {\n",
       "        text-align: right;\n",
       "    }\n",
       "</style>\n",
       "<table border=\"1\" class=\"dataframe\">\n",
       "  <thead>\n",
       "    <tr style=\"text-align: right;\">\n",
       "      <th></th>\n",
       "      <th>intercept</th>\n",
       "      <th>CRIM</th>\n",
       "      <th>ZN</th>\n",
       "      <th>INDUS</th>\n",
       "      <th>CHAS</th>\n",
       "      <th>NOX</th>\n",
       "      <th>RM</th>\n",
       "      <th>AGE</th>\n",
       "      <th>DIS</th>\n",
       "      <th>RAD</th>\n",
       "      <th>TAX</th>\n",
       "      <th>PTRATIO</th>\n",
       "      <th>B</th>\n",
       "      <th>LSTAT</th>\n",
       "    </tr>\n",
       "  </thead>\n",
       "  <tbody>\n",
       "    <tr>\n",
       "      <th>coef</th>\n",
       "      <td>22.796535</td>\n",
       "      <td>-1.002135</td>\n",
       "      <td>0.696269</td>\n",
       "      <td>0.278065</td>\n",
       "      <td>0.718738</td>\n",
       "      <td>-2.022319</td>\n",
       "      <td>3.14524</td>\n",
       "      <td>-0.176048</td>\n",
       "      <td>-3.081908</td>\n",
       "      <td>2.251407</td>\n",
       "      <td>-1.767014</td>\n",
       "      <td>-2.037752</td>\n",
       "      <td>1.129568</td>\n",
       "      <td>-3.611658</td>\n",
       "    </tr>\n",
       "  </tbody>\n",
       "</table>\n",
       "</div>"
      ],
      "text/plain": [
       "      intercept      CRIM        ZN     INDUS      CHAS       NOX       RM  \\\n",
       "coef  22.796535 -1.002135  0.696269  0.278065  0.718738 -2.022319  3.14524   \n",
       "\n",
       "           AGE       DIS       RAD       TAX   PTRATIO         B     LSTAT  \n",
       "coef -0.176048 -3.081908  2.251407 -1.767014 -2.037752  1.129568 -3.611658  "
      ]
     },
     "metadata": {},
     "output_type": "display_data"
    }
   ],
   "source": [
    "# 回帰係数の確認\n",
    "display(get_coef(lm_ss, X_train.columns.tolist()))"
   ]
  },
  {
   "cell_type": "markdown",
   "id": "16c557a1-d913-4173-b45d-3c5b1697f2cd",
   "metadata": {
    "tags": []
   },
   "source": [
    "## 予測の理由"
   ]
  },
  {
   "cell_type": "code",
   "execution_count": 63,
   "id": "a033e190-d0d7-4090-9f35-7ac88a264b00",
   "metadata": {},
   "outputs": [],
   "source": [
    "# 線形回帰では、回帰係数と説明変数を線形結合すると、簡単に出力可能"
   ]
  },
  {
   "cell_type": "code",
   "execution_count": 68,
   "id": "0b12be40-c705-429c-b203-ed28c173e6d0",
   "metadata": {},
   "outputs": [
    {
     "data": {
      "text/html": [
       "<div>\n",
       "<style scoped>\n",
       "    .dataframe tbody tr th:only-of-type {\n",
       "        vertical-align: middle;\n",
       "    }\n",
       "\n",
       "    .dataframe tbody tr th {\n",
       "        vertical-align: top;\n",
       "    }\n",
       "\n",
       "    .dataframe thead th {\n",
       "        text-align: right;\n",
       "    }\n",
       "</style>\n",
       "<table border=\"1\" class=\"dataframe\">\n",
       "  <thead>\n",
       "    <tr style=\"text-align: right;\">\n",
       "      <th></th>\n",
       "      <th>RMSE</th>\n",
       "      <th>R2</th>\n",
       "    </tr>\n",
       "  </thead>\n",
       "  <tbody>\n",
       "    <tr>\n",
       "      <th>0</th>\n",
       "      <td>2.810963</td>\n",
       "      <td>0.892253</td>\n",
       "    </tr>\n",
       "  </tbody>\n",
       "</table>\n",
       "</div>"
      ],
      "text/plain": [
       "       RMSE        R2\n",
       "0  2.810963  0.892253"
      ]
     },
     "execution_count": 68,
     "metadata": {},
     "output_type": "execute_result"
    }
   ],
   "source": [
    "# ランダムフォレスト\n",
    "\n",
    "# 学習\n",
    "rf = RandomForestRegressor(n_jobs=1, random_state=42)\n",
    "rf.fit(X_train, y_train)\n",
    "\n",
    "# モデルの書き出し\n",
    "joblib.dump(rf, filename=\"./model/boston_housing_rf.pkl\")\n",
    "\n",
    "# テストデータで精度評価 \n",
    "# 精度は線形回帰よりも高いが、解釈性が低く、業務で説明しずらい\n",
    "regression_metrics(rf, X_test, y_test)"
   ]
  },
  {
   "cell_type": "code",
   "execution_count": null,
   "id": "caaacb11-e559-46d7-8d30-d92f0d3a82e3",
   "metadata": {},
   "outputs": [],
   "source": []
  }
 ],
 "metadata": {
  "kernelspec": {
   "display_name": "Python 3 (ipykernel)",
   "language": "python",
   "name": "python3"
  },
  "language_info": {
   "codemirror_mode": {
    "name": "ipython",
    "version": 3
   },
   "file_extension": ".py",
   "mimetype": "text/x-python",
   "name": "python",
   "nbconvert_exporter": "python",
   "pygments_lexer": "ipython3",
   "version": "3.9.7"
  }
 },
 "nbformat": 4,
 "nbformat_minor": 5
}
