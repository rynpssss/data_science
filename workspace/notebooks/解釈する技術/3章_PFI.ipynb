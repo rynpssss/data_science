{
 "cells": [
  {
   "cell_type": "markdown",
   "id": "d14214aa-1e97-476f-a28a-70a20151de1f",
   "metadata": {},
   "source": [
    "# 特徴量の重要度\n",
    "\n",
    "## 利用場面\n",
    " - ドメイン知識に沿ったモデルかのデバッグ\n",
    " - 重要度が高い説明変数と低い説明変数で想定外のバグや外れ値がないかの確認\n",
    " - KPI改善に向けた有効変数の選定"
   ]
  },
  {
   "cell_type": "code",
   "execution_count": 23,
   "id": "7af13aa0-f366-4a71-8826-df65c358da15",
   "metadata": {},
   "outputs": [],
   "source": [
    "import sys\n",
    "import warnings\n",
    "import joblib\n",
    "from dataclasses import dataclass\n",
    "\n",
    "import numpy as np\n",
    "import pandas as pd\n",
    "import matplotlib.pyplot as plt\n",
    "import seaborn as sns\n",
    "from sklearn.datasets import load_boston\n",
    "from sklearn.model_selection import train_test_split\n",
    "from sklearn.linear_model import LinearRegression\n",
    "from sklearn.metrics import mean_squared_error\n",
    "from sklearn.metrics import r2_score\n",
    "from sklearn.preprocessing import StandardScaler\n",
    "from sklearn.ensemble import RandomForestRegressor"
   ]
  },
  {
   "cell_type": "code",
   "execution_count": 17,
   "id": "653018ec-69a5-4016-ab9c-e9b71f70afc3",
   "metadata": {},
   "outputs": [],
   "source": [
    "warnings.simplefilter(\"ignore\")"
   ]
  },
  {
   "cell_type": "markdown",
   "id": "8a64adef-296b-46c2-a792-e5ca5ff208bb",
   "metadata": {
    "tags": []
   },
   "source": [
    "# シミュレーションデータ作成"
   ]
  },
  {
   "cell_type": "code",
   "execution_count": 8,
   "id": "81738369-49d4-4189-ab08-63b464f6c8bd",
   "metadata": {},
   "outputs": [],
   "source": [
    "def generate_simulation_data(N, beta, mu, Sigma):\n",
    "    \"\"\"  \n",
    "        線形のシミュレーションデータを生成し、訓練データとテストデータに分割\n",
    "    \n",
    "        Args:\n",
    "            N：インスタンス数（データ数）\n",
    "            beta:各特徴量の傾き\n",
    "            mu:各特徴量は他変量正規分布で生成。その平均\n",
    "            Sigma：各特徴量は他変量正規分布で生成。その分散共分散行列\n",
    "    \n",
    "    \"\"\"\n",
    "    \n",
    "    # 他変量正規分布からデータを生成\n",
    "    X = np.random.multivariate_normal(mu, Sigma, N)\n",
    "    \n",
    "    # ノイズは平均０、標準偏差0.1\n",
    "    epsilon = np.random.normal(0, 0.1, N)\n",
    "    \n",
    "    # 特徴量とノイズの線形和で目的変数を作成\n",
    "    y = X @ beta + epsilon\n",
    "    \n",
    "    return train_test_split(X, y, test_size=0.2, random_state=42)"
   ]
  },
  {
   "cell_type": "code",
   "execution_count": 9,
   "id": "2890aa32-bfdf-4ff1-91c7-df9f538ee1bf",
   "metadata": {},
   "outputs": [],
   "source": [
    "# シミュレーションデータの設定\n",
    "N = 1000\n",
    "J = 3\n",
    "mu = np.zeros(J)\n",
    "Sigma = np.array([[1,0,0], [0,1,0], [0,0,1]])\n",
    "beta = np.array([0,1,2])\n",
    "\n",
    "# シミュレーションデータの作成\n",
    "X_train, X_test, y_train, y_test = generate_simulation_data(N, beta, mu, Sigma)"
   ]
  },
  {
   "cell_type": "markdown",
   "id": "07d7440f-b6a9-43a7-90e4-8180141cc71b",
   "metadata": {
    "tags": []
   },
   "source": [
    "# 線形回帰の特徴量重要度"
   ]
  },
  {
   "cell_type": "code",
   "execution_count": 20,
   "id": "ac96b609-e1b8-4464-bce9-1aec6aa8fabe",
   "metadata": {},
   "outputs": [
    {
     "data": {
      "image/png": "[encoded data removed]",
      "text/plain": [
       "<Figure size 432x288 with 1 Axes>"
      ]
     },
     "metadata": {
      "needs_background": "light"
     },
     "output_type": "display_data"
    }
   ],
   "source": [
    "def plot_bar(variables, values, title=None, xlabel=None, ylabel=None):\n",
    "    \"\"\" 回帰係数の大きさを棒グラフで表示\"\"\"\n",
    "    \n",
    "    fig, ax = plt.subplots()\n",
    "    ax.barh(variables, values)\n",
    "    ax.set(xlabel=xlabel, ylabel=ylabel, xlim=(0,None))\n",
    "    fig.suptitle(title)\n",
    "    \n",
    "    fig.show()\n",
    "    \n",
    "# 線形回帰の学習\n",
    "lm = LinearRegression()\n",
    "lm.fit(X_train, y_train)\n",
    "\n",
    "# 回帰係数の可視化\n",
    "var_names = [f\"X{j}\" for j in range(J)]\n",
    "plot_bar(var_names, lm.coef_)"
   ]
  },
  {
   "cell_type": "markdown",
   "id": "f819e1c8-01d5-4018-b011-0d449f857718",
   "metadata": {},
   "source": [
    "# 機械学習での特徴量重要度\n",
    "\n",
    "## アイデア（予測誤差を使用したアプローチ）\n",
    "1. 一つ一つの特徴量が「使えない」場合の予測誤差を計算\n",
    "2. 「使える」場合の予測誤差との差分を見る"
   ]
  },
  {
   "cell_type": "markdown",
   "id": "8910ad12-64d0-43d0-b3b4-e48aa6205f5a",
   "metadata": {},
   "source": [
    "## Permutation Feature Importance (PFI）\n",
    "　対象の特徴量をシャッフルして「使えない」状況を作り出す\n",
    " \n",
    "手順\n",
    "1. 学習\n",
    "2. 加工なしのテストデータで予測（基準値）\n",
    "3. テストデータのうち、１つの特徴量をシャッフルして予測\n",
    "4. 2と3の予測誤差の差分を見る\n",
    "5. 2〜４を特徴量分だけ繰り返す\n",
    "6. 特徴量の重要度を可視化して比較"
   ]
  },
  {
   "cell_type": "code",
   "execution_count": 64,
   "id": "9b8f80b0-6476-4eb3-8ed4-c53a614d5d20",
   "metadata": {},
   "outputs": [],
   "source": [
    "@dataclass\n",
    "class PermutationFeatureImportance:\n",
    "    \"\"\"\n",
    "        Permutation Feature Importance(PFI）\n",
    "        \n",
    "        Args:\n",
    "            model : 学習済みモデル\n",
    "            X : 特徴量\n",
    "            y : 目的変数\n",
    "            var_names : 特徴量の名前\n",
    "    \"\"\"\n",
    "    \n",
    "    def __init__(self, model, X:np.ndarray, y:np.ndarray, var_names:list[str]):\n",
    "        self.model = model\n",
    "        self.X = X\n",
    "        self.y = y\n",
    "        self.var_names = var_names\n",
    "        self.baseline = self.__post_init__()\n",
    "        \n",
    "    def __post_init__(self)-> None:\n",
    "        \"\"\" 基準値（全特徴量を使った予測誤差）\"\"\"\n",
    "        return mean_squared_error(self.y, self.model.predict(self.X), squared=False)\n",
    "        \n",
    "    def _permutation_metrics(self, idx_to_permute:int) ->float:\n",
    "        \"\"\"\n",
    "            ある特徴量の値をシャッフルしたときの予測誤差\n",
    "            \n",
    "            Args:\n",
    "                idx_to_permute\n",
    "        \"\"\"\n",
    "        \n",
    "        X_permuted = self.X.copy()\n",
    "        \n",
    "        X_permuted[:,idx_to_permute] = np.random.permutation(X_permuted[:,idx_to_permute])\n",
    "        y_pred = self.model.predict(X_permuted)\n",
    "        \n",
    "        return mean_squared_error(self.y, y_pred, squared=False)\n",
    "    \n",
    "    def permutation_feature_importance(self, n_shuffle:int=10) -> None:\n",
    "        \"\"\" \n",
    "            PFIを求める\n",
    "        \n",
    "            Args:\n",
    "                n_shuffle:シャッフルする回数（シャッフルした予測誤差を安定させるため）　。デフォルト10\n",
    "        \"\"\"\n",
    "        J = self.X.shape[1] # 特徴量の数\n",
    "        \n",
    "        # 特徴量分のPFIを求める\n",
    "        # n_shuffle分だけ回して、結果を安定させる\n",
    "        metrics_permuted = [\n",
    "            np.mean([self._permutation_metrics(j) for r in range(n_shuffle)])\n",
    "            for j in range(J)\n",
    "        ]\n",
    "        \n",
    "        df_feature_importance = pd.DataFrame(\n",
    "            data = {\n",
    "                \"var_names\":self.var_names,\n",
    "                \"baseline\":self.baseline,\n",
    "                \"permutation\":metrics_permuted,\n",
    "                \"difference\":metrics_permuted - self.baseline,\n",
    "                \"ratio\":metrics_permuted / self.baseline\n",
    "            }\n",
    "        )\n",
    "        \n",
    "        self.feature_importance = df_feature_importance.sort_values(\n",
    "            \"permutation\", ascending=False)\n",
    "        \n",
    "    def plot(self, importance_type:str=\"difference\") -> None:\n",
    "        \"\"\" 可視化\"\"\"\n",
    "        \n",
    "        fig, ax = plt.subplots()\n",
    "        ax.barh(\n",
    "            self.feature_importance['var_names'],\n",
    "            self.feature_importance[importance_type],\n",
    "            label=f\"baseline:{self.baseline:.2f}\")\n",
    "        ax.set(xlabel=importance_type, ylabel=None)\n",
    "        ax.invert_yaxis()\n",
    "        ax.legend(loc=\"lower right\")\n",
    "        fig.suptitle(f\"Permutation Feature Importance({importance_type})\")\n",
    "        fig.show()"
   ]
  },
  {
   "cell_type": "code",
   "execution_count": 65,
   "id": "cc9f0340-27b7-4b5a-842a-9689a0d2f51c",
   "metadata": {},
   "outputs": [
    {
     "data": {
      "text/plain": [
       "RandomForestRegressor(random_state=42)"
      ]
     },
     "execution_count": 65,
     "metadata": {},
     "output_type": "execute_result"
    }
   ],
   "source": [
    "rf = RandomForestRegressor(random_state=42)\n",
    "rf.fit(X_train, y_train)"
   ]
  },
  {
   "cell_type": "code",
   "execution_count": 66,
   "id": "fd9d54cd-ac27-4a74-b5ed-2f801f9b847f",
   "metadata": {},
   "outputs": [
    {
     "data": {
      "image/png": "[encoded data removed]",
      "text/plain": [
       "<Figure size 432x288 with 1 Axes>"
      ]
     },
     "metadata": {
      "needs_background": "light"
     },
     "output_type": "display_data"
    }
   ],
   "source": [
    "pfi = PermutationFeatureImportance(rf, X_test, y_test, var_names)\n",
    "pfi.permutation_feature_importance()\n",
    "pfi.plot()"
   ]
  },
  {
   "cell_type": "markdown",
   "id": "dcb6acfe-3955-4b8d-8025-6d6141b2cd1f",
   "metadata": {},
   "source": [
    "# Grouped Permutation Feature Importance (GPFI)\n",
    "\n",
    "特徴量同士が相関していたり、似ている意味の時にまとめてPFIを求めるアイデア<br>\n",
    "使う場面はこんな感じ\n",
    " - 特徴量同士に相関あり\n",
    " - カテゴリカル変数をOneHotEncodingして、複数列がある場合\n",
    " - まとめた方が解釈性の向上が見込める（例：緯度経度）\n"
   ]
  },
  {
   "cell_type": "code",
   "execution_count": 104,
   "id": "584e3fa0-ec52-44a6-b20f-7ac05ecd4662",
   "metadata": {},
   "outputs": [],
   "source": [
    "class GroupedPermutationFeatureImportance(PermutationFeatureImportance):\n",
    "    \"\"\" Grouped PFI\"\"\"\n",
    "    \n",
    "    def _permutation_metrics(self, var_names_to_permute:list[str]) ->float:\n",
    "        \"\"\" 特徴量グループの値をシャッフルした時に予測誤差を求める\"\"\"\n",
    "        \n",
    "        X_permuted = self.X.copy()\n",
    "        \n",
    "        # 特徴量グループのindexを保持\n",
    "        idx_to_permute = [\n",
    "            self.var_names.index(n) for n in var_names_to_permute\n",
    "        ]\n",
    "        \n",
    "        # 特徴量グループに分けて、シャッフルして予測\n",
    "        X_permuted[:, idx_to_permute] = np.random.permutation(X_permuted[:, idx_to_permute])\n",
    "        y_pred = self.model.predict(X_permuted)\n",
    "        \n",
    "        return mean_squared_error(self.y, y_pred, squared=False)\n",
    "    \n",
    "    def permutation_feature_importance(self, \n",
    "                                       var_groups:list[list[str]]=None, \n",
    "                                       n_shuffle:int=10\n",
    "                                      )->None:\n",
    "        \"\"\" GPFIを求める\n",
    "        \n",
    "        Args:\n",
    "            var_groups:\n",
    "                グループ化された特徴量のリスト\n",
    "            n_shuffle:\n",
    "                シャッフル回数\n",
    "        \"\"\"\n",
    "        \n",
    "        if var_groups is None:\n",
    "            var_groups = [ [j] for j in self.var_names] \n",
    "        \n",
    "        metrics_permuted = [\n",
    "            np.mean([self._permutation_metrics(g) for n in range(n_shuffle)])\n",
    "            for g in var_groups]\n",
    "        \n",
    "        df_feature_importance = pd.DataFrame(\n",
    "            data={\n",
    "                \"var_names\": [\"+\".join(j) for j in var_groups],\n",
    "                \"baseline\": self.baseline,\n",
    "                \"permutation\": metrics_permuted,\n",
    "                \"difference\": metrics_permuted - self.baseline,\n",
    "                \"ratio\": metrics_permuted / self.baseline,\n",
    "            }\n",
    "        )\n",
    "\n",
    "        self.feature_importance = df_feature_importance.sort_values(\n",
    "            \"permutation\", ascending=False\n",
    "        )"
   ]
  },
  {
   "cell_type": "code",
   "execution_count": 105,
   "id": "3b97dabe-9391-46b8-b611-044cfa2956c4",
   "metadata": {},
   "outputs": [],
   "source": [
    "X_train2 = np.concatenate([X_train, X_train[:,[2]]],axis=1)"
   ]
  },
  {
   "cell_type": "code",
   "execution_count": 106,
   "id": "b6b11638-6d44-4901-9308-32a98d49fe2e",
   "metadata": {},
   "outputs": [
    {
     "data": {
      "text/plain": [
       "RandomForestRegressor(random_state=42)"
      ]
     },
     "execution_count": 106,
     "metadata": {},
     "output_type": "execute_result"
    }
   ],
   "source": [
    "rf = RandomForestRegressor(random_state=42)\n",
    "rf.fit(X_train2, y_train)"
   ]
  },
  {
   "cell_type": "code",
   "execution_count": 113,
   "id": "b9cec263-a61d-48c9-ba44-3a938bb7f795",
   "metadata": {},
   "outputs": [
    {
     "data": {
      "image/png": "[encoded data removed]",
      "text/plain": [
       "<Figure size 432x288 with 1 Axes>"
      ]
     },
     "metadata": {
      "needs_background": "light"
     },
     "output_type": "display_data"
    }
   ],
   "source": [
    "X_test2 = np.concatenate([X_test, X_test[:,[2]]], axis=1)\n",
    "\n",
    "gpfi = GroupedPermutationFeatureImportance(rf, X_test2, y_test, var_names=[\"X0\", \"X1\", \"X2\", \"X3\"])\n",
    "\n",
    "# var_groupsを指定しなければ通常のPFIが計算される\n",
    "gpfi.permutation_feature_importance()\n",
    "\n",
    "# 可視化\n",
    "gpfi.plot()"
   ]
  },
  {
   "cell_type": "code",
   "execution_count": 115,
   "id": "d1473aba-ca26-40b0-be12-4ac2a1042c1f",
   "metadata": {},
   "outputs": [
    {
     "data": {
      "image/png": "[encoded data removed]",
      "text/plain": [
       "<Figure size 432x288 with 1 Axes>"
      ]
     },
     "metadata": {
      "needs_background": "light"
     },
     "output_type": "display_data"
    }
   ],
   "source": [
    "# var_groupsを指定しなければ通常のPFIが計算される\n",
    "gpfi.permutation_feature_importance(var_groups=[[\"X0\"], [\"X1\"], [\"X2\", \"X3\"]])\n",
    "\n",
    "# 可視化\n",
    "gpfi.plot()"
   ]
  },
  {
   "cell_type": "code",
   "execution_count": null,
   "id": "671c6bb3-255f-4c7f-81dd-508c40700e5e",
   "metadata": {},
   "outputs": [],
   "source": []
  }
 ],
 "metadata": {
  "kernelspec": {
   "display_name": "Python 3 (ipykernel)",
   "language": "python",
   "name": "python3"
  },
  "language_info": {
   "codemirror_mode": {
    "name": "ipython",
    "version": 3
   },
   "file_extension": ".py",
   "mimetype": "text/x-python",
   "name": "python",
   "nbconvert_exporter": "python",
   "pygments_lexer": "ipython3",
   "version": "3.9.7"
  }
 },
 "nbformat": 4,
 "nbformat_minor": 5
}
