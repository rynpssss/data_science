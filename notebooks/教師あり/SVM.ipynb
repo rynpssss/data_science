{
 "cells": [
  {
   "cell_type": "markdown",
   "metadata": {},
   "source": [
    "# SVM"
   ]
  },
  {
   "cell_type": "markdown",
   "metadata": {},
   "source": [
    "## 特徴\n",
    "\n",
    "- 判別平面と最も近いデータの距離が最大になるように判別平面を求めて分類を行う方法\n",
    "- ランダムフォレストとの使い分け\n",
    "\t- データ数が多い＆次元数が多いか？　※計算量の問題\n",
    "\t\t- Yes　→　ランダムフォレスト（求め方の都合上、データが多いほど精度が高まる）\n",
    "\t\t- No     →　SVM\n",
    "\t- 軸に意味を持っているか？\n",
    "\t\t- Yes　→　ランダムフォレスト\n",
    "\t\t- No　→　SVM\n",
    "\t\t- →　軸に意味を持っていて、高次元になるとどうやってもSVMで滑らかな超平面は作れない"
   ]
  },
  {
   "cell_type": "markdown",
   "metadata": {},
   "source": [
    "***"
   ]
  },
  {
   "cell_type": "markdown",
   "metadata": {},
   "source": [
    "## 不明点\n",
    "### 21/12/29時点\n",
    " - カーネルとは？\n",
    " - 計算方法は？\n",
    " - 予測精度が高い理由は？\n",
    " - 概要や概念は？"
   ]
  },
  {
   "cell_type": "markdown",
   "metadata": {},
   "source": [
    "***"
   ]
  },
  {
   "cell_type": "markdown",
   "metadata": {},
   "source": [
    "## 関係性\n",
    "### 21/12/29時点\n",
    " - ランダムフォレストとの関係性は、上記記載"
   ]
  },
  {
   "cell_type": "code",
   "execution_count": null,
   "metadata": {},
   "outputs": [],
   "source": []
  }
 ],
 "metadata": {
  "kernelspec": {
   "display_name": "Python 3",
   "language": "python",
   "name": "python3"
  },
  "language_info": {
   "codemirror_mode": {
    "name": "ipython",
    "version": 3
   },
   "file_extension": ".py",
   "mimetype": "text/x-python",
   "name": "python",
   "nbconvert_exporter": "python",
   "pygments_lexer": "ipython3",
   "version": "3.7.4"
  }
 },
 "nbformat": 4,
 "nbformat_minor": 4
}
